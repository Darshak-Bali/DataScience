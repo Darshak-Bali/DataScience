{
  "cells": [
    {
      "attachments": {},
      "cell_type": "markdown",
      "metadata": {
        "_cell_guid": "5250962e-8d89-486e-a353-5406f9b5d8e9",
        "_uuid": "1e7821ad80b7859f1ab6a0b44a636ed57759fd2b",
        "id": "4UAoMPNfgAYS"
      },
      "source": [
        "# Credit scoring model\n"
      ]
    },
    {
      "attachments": {},
      "cell_type": "markdown",
      "metadata": {
        "_cell_guid": "0262c904-8746-4233-8119-b9a0cec9b746",
        "_uuid": "24d61285addf55e625f3e1fb4c171840adb525e0",
        "id": "BR2GjfQIgAYW"
      },
      "source": [
        "#### Objective : Create a credit scoring algorithm that predicts the chance of a given loan applicant defaulting on loan repayment."
      ]
    },
    {
      "cell_type": "code",
      "execution_count": 128,
      "metadata": {
        "_cell_guid": "92fe9a80-e04a-44cd-83e1-a637d8ef370e",
        "_uuid": "0b877b61b35f533f719def824c30ad0583f92c76",
        "collapsed": true,
        "id": "EFQf5gRKgAYW",
        "jupyter": {
          "outputs_hidden": true
        }
      },
      "outputs": [],
      "source": [
        "import pandas as pd\n",
        "import numpy as np\n",
        "import matplotlib.pyplot as plt\n",
        "import itertools\n",
        "from sklearn.metrics import confusion_matrix\n",
        "\n",
        "# importing necessary libraries"
      ]
    },
    {
      "cell_type": "code",
      "execution_count": 129,
      "metadata": {
        "colab": {
          "base_uri": "https://localhost:8080/"
        },
        "id": "BNCcpVKSgc-l",
        "outputId": "fe3cfd8a-24b1-4134-ffad-793959d7c15c"
      },
      "outputs": [
        {
          "name": "stdout",
          "output_type": "stream",
          "text": [
            "Looking in indexes: https://pypi.org/simple, https://us-python.pkg.dev/colab-wheels/public/simple/\n",
            "Requirement already satisfied: sklearn in /usr/local/lib/python3.10/dist-packages (0.0.post5)\n"
          ]
        }
      ],
      "source": [
        "!pip install sklearn"
      ]
    },
    {
      "cell_type": "code",
      "execution_count": 130,
      "metadata": {
        "_cell_guid": "2d9c866b-b9de-4da3-a050-34607187d0a8",
        "_uuid": "34799a08532b29ff15ef1fff66f2134a1f61591e",
        "collapsed": true,
        "id": "dpdqB9eEgAYX",
        "jupyter": {
          "outputs_hidden": true
        }
      },
      "outputs": [],
      "source": [
        "df = pd.read_csv(\"hmeq.csv\")\n",
        "df_i = pd.read_csv(\"hmeq.csv\")\n",
        "\n",
        "# reading the input\n",
        "# Storing it in 2 dataframes, We will carry out our operations on df.In case of need for initial table without any changes we can use df_i"
      ]
    },
    {
      "cell_type": "code",
      "execution_count": 131,
      "metadata": {
        "_cell_guid": "e2a3e872-e4f0-4fa7-8a17-111e06f22025",
        "_uuid": "894c0777495622b8882b043c12bd7f1f1eab7a99",
        "colab": {
          "base_uri": "https://localhost:8080/",
          "height": 206
        },
        "collapsed": true,
        "id": "ZNAow1uPgAYX",
        "jupyter": {
          "outputs_hidden": true
        },
        "outputId": "e893d9c6-5fd1-4abb-e918-c28599b10e38"
      },
      "outputs": [
        {
          "data": {
            "text/html": [
              "\n",
              "  <div id=\"df-6bea1dd0-4615-4b3e-912b-00ee155d007d\">\n",
              "    <div class=\"colab-df-container\">\n",
              "      <div>\n",
              "<style scoped>\n",
              "    .dataframe tbody tr th:only-of-type {\n",
              "        vertical-align: middle;\n",
              "    }\n",
              "\n",
              "    .dataframe tbody tr th {\n",
              "        vertical-align: top;\n",
              "    }\n",
              "\n",
              "    .dataframe thead th {\n",
              "        text-align: right;\n",
              "    }\n",
              "</style>\n",
              "<table border=\"1\" class=\"dataframe\">\n",
              "  <thead>\n",
              "    <tr style=\"text-align: right;\">\n",
              "      <th></th>\n",
              "      <th>BAD</th>\n",
              "      <th>LOAN</th>\n",
              "      <th>MORTDUE</th>\n",
              "      <th>VALUE</th>\n",
              "      <th>REASON</th>\n",
              "      <th>JOB</th>\n",
              "      <th>YOJ</th>\n",
              "      <th>DEROG</th>\n",
              "      <th>DELINQ</th>\n",
              "      <th>CLAGE</th>\n",
              "      <th>NINQ</th>\n",
              "      <th>CLNO</th>\n",
              "      <th>DEBTINC</th>\n",
              "    </tr>\n",
              "  </thead>\n",
              "  <tbody>\n",
              "    <tr>\n",
              "      <th>0</th>\n",
              "      <td>1</td>\n",
              "      <td>1100</td>\n",
              "      <td>25860.0</td>\n",
              "      <td>39025.0</td>\n",
              "      <td>HomeImp</td>\n",
              "      <td>Other</td>\n",
              "      <td>10.5</td>\n",
              "      <td>0.0</td>\n",
              "      <td>0.0</td>\n",
              "      <td>94.366667</td>\n",
              "      <td>1.0</td>\n",
              "      <td>9.0</td>\n",
              "      <td>NaN</td>\n",
              "    </tr>\n",
              "    <tr>\n",
              "      <th>1</th>\n",
              "      <td>1</td>\n",
              "      <td>1300</td>\n",
              "      <td>70053.0</td>\n",
              "      <td>68400.0</td>\n",
              "      <td>HomeImp</td>\n",
              "      <td>Other</td>\n",
              "      <td>7.0</td>\n",
              "      <td>0.0</td>\n",
              "      <td>2.0</td>\n",
              "      <td>121.833333</td>\n",
              "      <td>0.0</td>\n",
              "      <td>14.0</td>\n",
              "      <td>NaN</td>\n",
              "    </tr>\n",
              "    <tr>\n",
              "      <th>2</th>\n",
              "      <td>1</td>\n",
              "      <td>1500</td>\n",
              "      <td>13500.0</td>\n",
              "      <td>16700.0</td>\n",
              "      <td>HomeImp</td>\n",
              "      <td>Other</td>\n",
              "      <td>4.0</td>\n",
              "      <td>0.0</td>\n",
              "      <td>0.0</td>\n",
              "      <td>149.466667</td>\n",
              "      <td>1.0</td>\n",
              "      <td>10.0</td>\n",
              "      <td>NaN</td>\n",
              "    </tr>\n",
              "    <tr>\n",
              "      <th>3</th>\n",
              "      <td>1</td>\n",
              "      <td>1500</td>\n",
              "      <td>NaN</td>\n",
              "      <td>NaN</td>\n",
              "      <td>NaN</td>\n",
              "      <td>NaN</td>\n",
              "      <td>NaN</td>\n",
              "      <td>NaN</td>\n",
              "      <td>NaN</td>\n",
              "      <td>NaN</td>\n",
              "      <td>NaN</td>\n",
              "      <td>NaN</td>\n",
              "      <td>NaN</td>\n",
              "    </tr>\n",
              "    <tr>\n",
              "      <th>4</th>\n",
              "      <td>0</td>\n",
              "      <td>1700</td>\n",
              "      <td>97800.0</td>\n",
              "      <td>112000.0</td>\n",
              "      <td>HomeImp</td>\n",
              "      <td>Office</td>\n",
              "      <td>3.0</td>\n",
              "      <td>0.0</td>\n",
              "      <td>0.0</td>\n",
              "      <td>93.333333</td>\n",
              "      <td>0.0</td>\n",
              "      <td>14.0</td>\n",
              "      <td>NaN</td>\n",
              "    </tr>\n",
              "  </tbody>\n",
              "</table>\n",
              "</div>\n",
              "      <button class=\"colab-df-convert\" onclick=\"convertToInteractive('df-6bea1dd0-4615-4b3e-912b-00ee155d007d')\"\n",
              "              title=\"Convert this dataframe to an interactive table.\"\n",
              "              style=\"display:none;\">\n",
              "        \n",
              "  <svg xmlns=\"http://www.w3.org/2000/svg\" height=\"24px\"viewBox=\"0 0 24 24\"\n",
              "       width=\"24px\">\n",
              "    <path d=\"M0 0h24v24H0V0z\" fill=\"none\"/>\n",
              "    <path d=\"M18.56 5.44l.94 2.06.94-2.06 2.06-.94-2.06-.94-.94-2.06-.94 2.06-2.06.94zm-11 1L8.5 8.5l.94-2.06 2.06-.94-2.06-.94L8.5 2.5l-.94 2.06-2.06.94zm10 10l.94 2.06.94-2.06 2.06-.94-2.06-.94-.94-2.06-.94 2.06-2.06.94z\"/><path d=\"M17.41 7.96l-1.37-1.37c-.4-.4-.92-.59-1.43-.59-.52 0-1.04.2-1.43.59L10.3 9.45l-7.72 7.72c-.78.78-.78 2.05 0 2.83L4 21.41c.39.39.9.59 1.41.59.51 0 1.02-.2 1.41-.59l7.78-7.78 2.81-2.81c.8-.78.8-2.07 0-2.86zM5.41 20L4 18.59l7.72-7.72 1.47 1.35L5.41 20z\"/>\n",
              "  </svg>\n",
              "      </button>\n",
              "      \n",
              "  <style>\n",
              "    .colab-df-container {\n",
              "      display:flex;\n",
              "      flex-wrap:wrap;\n",
              "      gap: 12px;\n",
              "    }\n",
              "\n",
              "    .colab-df-convert {\n",
              "      background-color: #E8F0FE;\n",
              "      border: none;\n",
              "      border-radius: 50%;\n",
              "      cursor: pointer;\n",
              "      display: none;\n",
              "      fill: #1967D2;\n",
              "      height: 32px;\n",
              "      padding: 0 0 0 0;\n",
              "      width: 32px;\n",
              "    }\n",
              "\n",
              "    .colab-df-convert:hover {\n",
              "      background-color: #E2EBFA;\n",
              "      box-shadow: 0px 1px 2px rgba(60, 64, 67, 0.3), 0px 1px 3px 1px rgba(60, 64, 67, 0.15);\n",
              "      fill: #174EA6;\n",
              "    }\n",
              "\n",
              "    [theme=dark] .colab-df-convert {\n",
              "      background-color: #3B4455;\n",
              "      fill: #D2E3FC;\n",
              "    }\n",
              "\n",
              "    [theme=dark] .colab-df-convert:hover {\n",
              "      background-color: #434B5C;\n",
              "      box-shadow: 0px 1px 3px 1px rgba(0, 0, 0, 0.15);\n",
              "      filter: drop-shadow(0px 1px 2px rgba(0, 0, 0, 0.3));\n",
              "      fill: #FFFFFF;\n",
              "    }\n",
              "  </style>\n",
              "\n",
              "      <script>\n",
              "        const buttonEl =\n",
              "          document.querySelector('#df-6bea1dd0-4615-4b3e-912b-00ee155d007d button.colab-df-convert');\n",
              "        buttonEl.style.display =\n",
              "          google.colab.kernel.accessAllowed ? 'block' : 'none';\n",
              "\n",
              "        async function convertToInteractive(key) {\n",
              "          const element = document.querySelector('#df-6bea1dd0-4615-4b3e-912b-00ee155d007d');\n",
              "          const dataTable =\n",
              "            await google.colab.kernel.invokeFunction('convertToInteractive',\n",
              "                                                     [key], {});\n",
              "          if (!dataTable) return;\n",
              "\n",
              "          const docLinkHtml = 'Like what you see? Visit the ' +\n",
              "            '<a target=\"_blank\" href=https://colab.research.google.com/notebooks/data_table.ipynb>data table notebook</a>'\n",
              "            + ' to learn more about interactive tables.';\n",
              "          element.innerHTML = '';\n",
              "          dataTable['output_type'] = 'display_data';\n",
              "          await google.colab.output.renderOutput(dataTable, element);\n",
              "          const docLink = document.createElement('div');\n",
              "          docLink.innerHTML = docLinkHtml;\n",
              "          element.appendChild(docLink);\n",
              "        }\n",
              "      </script>\n",
              "    </div>\n",
              "  </div>\n",
              "  "
            ],
            "text/plain": [
              "   BAD  LOAN  MORTDUE     VALUE   REASON     JOB   YOJ  DEROG  DELINQ  \\\n",
              "0    1  1100  25860.0   39025.0  HomeImp   Other  10.5    0.0     0.0   \n",
              "1    1  1300  70053.0   68400.0  HomeImp   Other   7.0    0.0     2.0   \n",
              "2    1  1500  13500.0   16700.0  HomeImp   Other   4.0    0.0     0.0   \n",
              "3    1  1500      NaN       NaN      NaN     NaN   NaN    NaN     NaN   \n",
              "4    0  1700  97800.0  112000.0  HomeImp  Office   3.0    0.0     0.0   \n",
              "\n",
              "        CLAGE  NINQ  CLNO  DEBTINC  \n",
              "0   94.366667   1.0   9.0      NaN  \n",
              "1  121.833333   0.0  14.0      NaN  \n",
              "2  149.466667   1.0  10.0      NaN  \n",
              "3         NaN   NaN   NaN      NaN  \n",
              "4   93.333333   0.0  14.0      NaN  "
            ]
          },
          "execution_count": 131,
          "metadata": {},
          "output_type": "execute_result"
        }
      ],
      "source": [
        "df.head()\n",
        "\n",
        "# glimpse of the dataset"
      ]
    },
    {
      "attachments": {},
      "cell_type": "markdown",
      "metadata": {
        "_cell_guid": "59b09832-2cc6-4088-bf22-28f0e444162b",
        "_uuid": "2cb62c8a3c6b0fe3a15ba8aba6d5cf6a10f24fa2",
        "id": "UGziQD2LgAYY"
      },
      "source": [
        "# Understanding the data"
      ]
    },
    {
      "cell_type": "code",
      "execution_count": 132,
      "metadata": {
        "_cell_guid": "7306478c-d2ee-4194-9adb-3488ae0f6ef1",
        "_uuid": "cc8280608505d75ae00163141523a0a6dbb3940d",
        "colab": {
          "base_uri": "https://localhost:8080/"
        },
        "collapsed": true,
        "id": "NMh9I_iEgAYY",
        "jupyter": {
          "outputs_hidden": true
        },
        "outputId": "cfa76f03-8aff-43e4-cff6-ac21e3a09911"
      },
      "outputs": [
        {
          "data": {
            "text/plain": [
              "(5960, 13)"
            ]
          },
          "execution_count": 132,
          "metadata": {},
          "output_type": "execute_result"
        }
      ],
      "source": [
        "df.shape"
      ]
    },
    {
      "cell_type": "code",
      "execution_count": 133,
      "metadata": {
        "_cell_guid": "03fb1e37-3711-4df3-b307-de3ecdac1353",
        "_uuid": "40b43ea3844352865291d8af1a5a82e55989a471",
        "colab": {
          "base_uri": "https://localhost:8080/"
        },
        "collapsed": true,
        "id": "NYuGXvEbgAYZ",
        "jupyter": {
          "outputs_hidden": true
        },
        "outputId": "d43895f6-267a-4d21-8f71-1ffe717476c7"
      },
      "outputs": [
        {
          "name": "stdout",
          "output_type": "stream",
          "text": [
            "<class 'pandas.core.frame.DataFrame'>\n",
            "RangeIndex: 5960 entries, 0 to 5959\n",
            "Data columns (total 13 columns):\n",
            " #   Column   Non-Null Count  Dtype  \n",
            "---  ------   --------------  -----  \n",
            " 0   BAD      5960 non-null   int64  \n",
            " 1   LOAN     5960 non-null   int64  \n",
            " 2   MORTDUE  5442 non-null   float64\n",
            " 3   VALUE    5848 non-null   float64\n",
            " 4   REASON   5708 non-null   object \n",
            " 5   JOB      5681 non-null   object \n",
            " 6   YOJ      5445 non-null   float64\n",
            " 7   DEROG    5252 non-null   float64\n",
            " 8   DELINQ   5380 non-null   float64\n",
            " 9   CLAGE    5652 non-null   float64\n",
            " 10  NINQ     5450 non-null   float64\n",
            " 11  CLNO     5738 non-null   float64\n",
            " 12  DEBTINC  4693 non-null   float64\n",
            "dtypes: float64(9), int64(2), object(2)\n",
            "memory usage: 605.4+ KB\n"
          ]
        }
      ],
      "source": [
        "df.info()\n",
        "\n",
        "# number of entries that are not Nan"
      ]
    },
    {
      "cell_type": "code",
      "execution_count": 134,
      "metadata": {
        "_cell_guid": "b011a359-ec79-449e-b53e-b57ad67102e6",
        "_uuid": "ee15c1170eae275a0bebd73d2a01072457b2fd29",
        "colab": {
          "base_uri": "https://localhost:8080/",
          "height": 300
        },
        "collapsed": true,
        "id": "mxVa5hSAgAYZ",
        "jupyter": {
          "outputs_hidden": true
        },
        "outputId": "3db3b530-0ff9-49c5-a7fb-ba22680c63f7"
      },
      "outputs": [
        {
          "data": {
            "text/html": [
              "\n",
              "  <div id=\"df-171db6b1-8b0a-4e2d-b77a-57da197ddc3e\">\n",
              "    <div class=\"colab-df-container\">\n",
              "      <div>\n",
              "<style scoped>\n",
              "    .dataframe tbody tr th:only-of-type {\n",
              "        vertical-align: middle;\n",
              "    }\n",
              "\n",
              "    .dataframe tbody tr th {\n",
              "        vertical-align: top;\n",
              "    }\n",
              "\n",
              "    .dataframe thead th {\n",
              "        text-align: right;\n",
              "    }\n",
              "</style>\n",
              "<table border=\"1\" class=\"dataframe\">\n",
              "  <thead>\n",
              "    <tr style=\"text-align: right;\">\n",
              "      <th></th>\n",
              "      <th>BAD</th>\n",
              "      <th>LOAN</th>\n",
              "      <th>MORTDUE</th>\n",
              "      <th>VALUE</th>\n",
              "      <th>YOJ</th>\n",
              "      <th>DEROG</th>\n",
              "      <th>DELINQ</th>\n",
              "      <th>CLAGE</th>\n",
              "      <th>NINQ</th>\n",
              "      <th>CLNO</th>\n",
              "      <th>DEBTINC</th>\n",
              "    </tr>\n",
              "  </thead>\n",
              "  <tbody>\n",
              "    <tr>\n",
              "      <th>count</th>\n",
              "      <td>5960.000000</td>\n",
              "      <td>5960.000000</td>\n",
              "      <td>5442.000000</td>\n",
              "      <td>5848.000000</td>\n",
              "      <td>5445.000000</td>\n",
              "      <td>5252.000000</td>\n",
              "      <td>5380.000000</td>\n",
              "      <td>5652.000000</td>\n",
              "      <td>5450.000000</td>\n",
              "      <td>5738.000000</td>\n",
              "      <td>4693.000000</td>\n",
              "    </tr>\n",
              "    <tr>\n",
              "      <th>mean</th>\n",
              "      <td>0.199497</td>\n",
              "      <td>18607.969799</td>\n",
              "      <td>73760.817200</td>\n",
              "      <td>101776.048741</td>\n",
              "      <td>8.922268</td>\n",
              "      <td>0.254570</td>\n",
              "      <td>0.449442</td>\n",
              "      <td>179.766275</td>\n",
              "      <td>1.186055</td>\n",
              "      <td>21.296096</td>\n",
              "      <td>33.779915</td>\n",
              "    </tr>\n",
              "    <tr>\n",
              "      <th>std</th>\n",
              "      <td>0.399656</td>\n",
              "      <td>11207.480417</td>\n",
              "      <td>44457.609458</td>\n",
              "      <td>57385.775334</td>\n",
              "      <td>7.573982</td>\n",
              "      <td>0.846047</td>\n",
              "      <td>1.127266</td>\n",
              "      <td>85.810092</td>\n",
              "      <td>1.728675</td>\n",
              "      <td>10.138933</td>\n",
              "      <td>8.601746</td>\n",
              "    </tr>\n",
              "    <tr>\n",
              "      <th>min</th>\n",
              "      <td>0.000000</td>\n",
              "      <td>1100.000000</td>\n",
              "      <td>2063.000000</td>\n",
              "      <td>8000.000000</td>\n",
              "      <td>0.000000</td>\n",
              "      <td>0.000000</td>\n",
              "      <td>0.000000</td>\n",
              "      <td>0.000000</td>\n",
              "      <td>0.000000</td>\n",
              "      <td>0.000000</td>\n",
              "      <td>0.524499</td>\n",
              "    </tr>\n",
              "    <tr>\n",
              "      <th>25%</th>\n",
              "      <td>0.000000</td>\n",
              "      <td>11100.000000</td>\n",
              "      <td>46276.000000</td>\n",
              "      <td>66075.500000</td>\n",
              "      <td>3.000000</td>\n",
              "      <td>0.000000</td>\n",
              "      <td>0.000000</td>\n",
              "      <td>115.116702</td>\n",
              "      <td>0.000000</td>\n",
              "      <td>15.000000</td>\n",
              "      <td>29.140031</td>\n",
              "    </tr>\n",
              "    <tr>\n",
              "      <th>50%</th>\n",
              "      <td>0.000000</td>\n",
              "      <td>16300.000000</td>\n",
              "      <td>65019.000000</td>\n",
              "      <td>89235.500000</td>\n",
              "      <td>7.000000</td>\n",
              "      <td>0.000000</td>\n",
              "      <td>0.000000</td>\n",
              "      <td>173.466667</td>\n",
              "      <td>1.000000</td>\n",
              "      <td>20.000000</td>\n",
              "      <td>34.818262</td>\n",
              "    </tr>\n",
              "    <tr>\n",
              "      <th>75%</th>\n",
              "      <td>0.000000</td>\n",
              "      <td>23300.000000</td>\n",
              "      <td>91488.000000</td>\n",
              "      <td>119824.250000</td>\n",
              "      <td>13.000000</td>\n",
              "      <td>0.000000</td>\n",
              "      <td>0.000000</td>\n",
              "      <td>231.562278</td>\n",
              "      <td>2.000000</td>\n",
              "      <td>26.000000</td>\n",
              "      <td>39.003141</td>\n",
              "    </tr>\n",
              "    <tr>\n",
              "      <th>max</th>\n",
              "      <td>1.000000</td>\n",
              "      <td>89900.000000</td>\n",
              "      <td>399550.000000</td>\n",
              "      <td>855909.000000</td>\n",
              "      <td>41.000000</td>\n",
              "      <td>10.000000</td>\n",
              "      <td>15.000000</td>\n",
              "      <td>1168.233561</td>\n",
              "      <td>17.000000</td>\n",
              "      <td>71.000000</td>\n",
              "      <td>203.312149</td>\n",
              "    </tr>\n",
              "  </tbody>\n",
              "</table>\n",
              "</div>\n",
              "      <button class=\"colab-df-convert\" onclick=\"convertToInteractive('df-171db6b1-8b0a-4e2d-b77a-57da197ddc3e')\"\n",
              "              title=\"Convert this dataframe to an interactive table.\"\n",
              "              style=\"display:none;\">\n",
              "        \n",
              "  <svg xmlns=\"http://www.w3.org/2000/svg\" height=\"24px\"viewBox=\"0 0 24 24\"\n",
              "       width=\"24px\">\n",
              "    <path d=\"M0 0h24v24H0V0z\" fill=\"none\"/>\n",
              "    <path d=\"M18.56 5.44l.94 2.06.94-2.06 2.06-.94-2.06-.94-.94-2.06-.94 2.06-2.06.94zm-11 1L8.5 8.5l.94-2.06 2.06-.94-2.06-.94L8.5 2.5l-.94 2.06-2.06.94zm10 10l.94 2.06.94-2.06 2.06-.94-2.06-.94-.94-2.06-.94 2.06-2.06.94z\"/><path d=\"M17.41 7.96l-1.37-1.37c-.4-.4-.92-.59-1.43-.59-.52 0-1.04.2-1.43.59L10.3 9.45l-7.72 7.72c-.78.78-.78 2.05 0 2.83L4 21.41c.39.39.9.59 1.41.59.51 0 1.02-.2 1.41-.59l7.78-7.78 2.81-2.81c.8-.78.8-2.07 0-2.86zM5.41 20L4 18.59l7.72-7.72 1.47 1.35L5.41 20z\"/>\n",
              "  </svg>\n",
              "      </button>\n",
              "      \n",
              "  <style>\n",
              "    .colab-df-container {\n",
              "      display:flex;\n",
              "      flex-wrap:wrap;\n",
              "      gap: 12px;\n",
              "    }\n",
              "\n",
              "    .colab-df-convert {\n",
              "      background-color: #E8F0FE;\n",
              "      border: none;\n",
              "      border-radius: 50%;\n",
              "      cursor: pointer;\n",
              "      display: none;\n",
              "      fill: #1967D2;\n",
              "      height: 32px;\n",
              "      padding: 0 0 0 0;\n",
              "      width: 32px;\n",
              "    }\n",
              "\n",
              "    .colab-df-convert:hover {\n",
              "      background-color: #E2EBFA;\n",
              "      box-shadow: 0px 1px 2px rgba(60, 64, 67, 0.3), 0px 1px 3px 1px rgba(60, 64, 67, 0.15);\n",
              "      fill: #174EA6;\n",
              "    }\n",
              "\n",
              "    [theme=dark] .colab-df-convert {\n",
              "      background-color: #3B4455;\n",
              "      fill: #D2E3FC;\n",
              "    }\n",
              "\n",
              "    [theme=dark] .colab-df-convert:hover {\n",
              "      background-color: #434B5C;\n",
              "      box-shadow: 0px 1px 3px 1px rgba(0, 0, 0, 0.15);\n",
              "      filter: drop-shadow(0px 1px 2px rgba(0, 0, 0, 0.3));\n",
              "      fill: #FFFFFF;\n",
              "    }\n",
              "  </style>\n",
              "\n",
              "      <script>\n",
              "        const buttonEl =\n",
              "          document.querySelector('#df-171db6b1-8b0a-4e2d-b77a-57da197ddc3e button.colab-df-convert');\n",
              "        buttonEl.style.display =\n",
              "          google.colab.kernel.accessAllowed ? 'block' : 'none';\n",
              "\n",
              "        async function convertToInteractive(key) {\n",
              "          const element = document.querySelector('#df-171db6b1-8b0a-4e2d-b77a-57da197ddc3e');\n",
              "          const dataTable =\n",
              "            await google.colab.kernel.invokeFunction('convertToInteractive',\n",
              "                                                     [key], {});\n",
              "          if (!dataTable) return;\n",
              "\n",
              "          const docLinkHtml = 'Like what you see? Visit the ' +\n",
              "            '<a target=\"_blank\" href=https://colab.research.google.com/notebooks/data_table.ipynb>data table notebook</a>'\n",
              "            + ' to learn more about interactive tables.';\n",
              "          element.innerHTML = '';\n",
              "          dataTable['output_type'] = 'display_data';\n",
              "          await google.colab.output.renderOutput(dataTable, element);\n",
              "          const docLink = document.createElement('div');\n",
              "          docLink.innerHTML = docLinkHtml;\n",
              "          element.appendChild(docLink);\n",
              "        }\n",
              "      </script>\n",
              "    </div>\n",
              "  </div>\n",
              "  "
            ],
            "text/plain": [
              "               BAD          LOAN        MORTDUE          VALUE          YOJ  \\\n",
              "count  5960.000000   5960.000000    5442.000000    5848.000000  5445.000000   \n",
              "mean      0.199497  18607.969799   73760.817200  101776.048741     8.922268   \n",
              "std       0.399656  11207.480417   44457.609458   57385.775334     7.573982   \n",
              "min       0.000000   1100.000000    2063.000000    8000.000000     0.000000   \n",
              "25%       0.000000  11100.000000   46276.000000   66075.500000     3.000000   \n",
              "50%       0.000000  16300.000000   65019.000000   89235.500000     7.000000   \n",
              "75%       0.000000  23300.000000   91488.000000  119824.250000    13.000000   \n",
              "max       1.000000  89900.000000  399550.000000  855909.000000    41.000000   \n",
              "\n",
              "             DEROG       DELINQ        CLAGE         NINQ         CLNO  \\\n",
              "count  5252.000000  5380.000000  5652.000000  5450.000000  5738.000000   \n",
              "mean      0.254570     0.449442   179.766275     1.186055    21.296096   \n",
              "std       0.846047     1.127266    85.810092     1.728675    10.138933   \n",
              "min       0.000000     0.000000     0.000000     0.000000     0.000000   \n",
              "25%       0.000000     0.000000   115.116702     0.000000    15.000000   \n",
              "50%       0.000000     0.000000   173.466667     1.000000    20.000000   \n",
              "75%       0.000000     0.000000   231.562278     2.000000    26.000000   \n",
              "max      10.000000    15.000000  1168.233561    17.000000    71.000000   \n",
              "\n",
              "           DEBTINC  \n",
              "count  4693.000000  \n",
              "mean     33.779915  \n",
              "std       8.601746  \n",
              "min       0.524499  \n",
              "25%      29.140031  \n",
              "50%      34.818262  \n",
              "75%      39.003141  \n",
              "max     203.312149  "
            ]
          },
          "execution_count": 134,
          "metadata": {},
          "output_type": "execute_result"
        }
      ],
      "source": [
        "df.describe()\n",
        "\n",
        "# Descriptive stats\n",
        "# Distribution of the data\n",
        "# There are no anomalies in the data(observe the maximums and means in each case)"
      ]
    },
    {
      "cell_type": "code",
      "execution_count": 135,
      "metadata": {
        "_cell_guid": "14ef58d2-6c5a-49ea-9556-7aa570b2fdad",
        "_uuid": "fd478b03b804200a416bd3502c655ac195639609",
        "colab": {
          "base_uri": "https://localhost:8080/"
        },
        "collapsed": true,
        "id": "EBdBIu9vgAYZ",
        "jupyter": {
          "outputs_hidden": true
        },
        "outputId": "50407e02-f570-4092-ee04-d336988fe178"
      },
      "outputs": [
        {
          "data": {
            "text/plain": [
              "Index(['BAD', 'LOAN', 'MORTDUE', 'VALUE', 'REASON', 'JOB', 'YOJ', 'DEROG',\n",
              "       'DELINQ', 'CLAGE', 'NINQ', 'CLNO', 'DEBTINC'],\n",
              "      dtype='object')"
            ]
          },
          "execution_count": 135,
          "metadata": {},
          "output_type": "execute_result"
        }
      ],
      "source": [
        "df.columns\n",
        "\n",
        "# Columns of the dataset"
      ]
    },
    {
      "attachments": {},
      "cell_type": "markdown",
      "metadata": {
        "_cell_guid": "f7756abc-fefa-4474-866c-df869817e956",
        "_uuid": "27eabd1708aba64fe12414d8bcd5deef30470378",
        "id": "hyTv0KhugAYa"
      },
      "source": [
        "## Distributions of various variables"
      ]
    },
    {
      "cell_type": "code",
      "execution_count": 136,
      "metadata": {
        "_cell_guid": "49dde92a-f600-43b3-99cf-f02aac905689",
        "_uuid": "7f7c90724a3e57dd4105520ef47de65e43368645",
        "colab": {
          "base_uri": "https://localhost:8080/",
          "height": 499
        },
        "collapsed": true,
        "id": "HGvHtTzngAYa",
        "jupyter": {
          "outputs_hidden": true
        },
        "outputId": "f8b6c1ce-0a50-4e06-a589-25825eca59bf"
      },
      "outputs": [
        {
          "name": "stdout",
          "output_type": "stream",
          "text": [
            "0    4771\n",
            "1    1189\n",
            "Name: BAD, dtype: int64\n"
          ]
        },
        {
          "data": {
            "text/plain": [
              "<Axes: >"
            ]
          },
          "execution_count": 136,
          "metadata": {},
          "output_type": "execute_result"
        },
        {
          "data": {
            "image/png": "[encoded data removed]",
            "text/plain": [
              "<Figure size 640x480 with 1 Axes>"
            ]
          },
          "metadata": {},
          "output_type": "display_data"
        }
      ],
      "source": [
        "print(df[\"BAD\"].value_counts())\n",
        "df[\"BAD\"].value_counts().plot(kind=\"barh\")\n",
        "\n",
        "# distribution of target variable \"BAD\"\n",
        "# The target class is a bit unbalanced - zeroes are about 80% and ones are about 20%"
      ]
    },
    {
      "cell_type": "code",
      "execution_count": 137,
      "metadata": {
        "_cell_guid": "c5627a89-053d-4082-83b6-302aac96aea4",
        "_uuid": "b1ea298c1315424029509d8f85ca0452d3f256ab",
        "colab": {
          "base_uri": "https://localhost:8080/"
        },
        "collapsed": true,
        "id": "609q4ygzgAYa",
        "jupyter": {
          "outputs_hidden": true
        },
        "outputId": "4095d226-322a-49ba-e042-49a94d739827"
      },
      "outputs": [
        {
          "name": "stdout",
          "output_type": "stream",
          "text": [
            "DebtCon    3928\n",
            "HomeImp    1780\n",
            "Name: REASON, dtype: int64\n"
          ]
        }
      ],
      "source": [
        "print(df[\"REASON\"].value_counts())\n",
        "\n",
        "# This is a nominal feature, It must be modified in a way we can use it."
      ]
    },
    {
      "cell_type": "code",
      "execution_count": 138,
      "metadata": {
        "_cell_guid": "0db7a298-7357-4dc3-9abb-98b330cd9f2b",
        "_uuid": "5e59cbab8100044beb6cda90efdbcb2d7fa2490e",
        "colab": {
          "base_uri": "https://localhost:8080/"
        },
        "collapsed": true,
        "id": "XOUvHZXUgAYa",
        "jupyter": {
          "outputs_hidden": true
        },
        "outputId": "318e2d1b-9087-40ba-9eeb-3c1151d7c086"
      },
      "outputs": [
        {
          "name": "stdout",
          "output_type": "stream",
          "text": [
            "Other      2388\n",
            "ProfExe    1276\n",
            "Office      948\n",
            "Mgr         767\n",
            "Self        193\n",
            "Sales       109\n",
            "Name: JOB, dtype: int64\n"
          ]
        }
      ],
      "source": [
        "print(df[\"JOB\"].value_counts())\n",
        "\n",
        "# Same as the above case, we must find a way to use it."
      ]
    },
    {
      "cell_type": "code",
      "execution_count": 139,
      "metadata": {
        "_cell_guid": "b936c067-465b-4228-bd62-c4f97a0cd805",
        "_uuid": "768df95096939dde03de17887472876cd1fa0c97",
        "colab": {
          "base_uri": "https://localhost:8080/",
          "height": 655
        },
        "collapsed": true,
        "id": "F4ipDwBOgAYb",
        "jupyter": {
          "outputs_hidden": true
        },
        "outputId": "44ae4ab9-3631-4cd1-9dec-e98df3ca3376"
      },
      "outputs": [
        {
          "data": {
            "text/plain": [
              "<Axes: ylabel='Frequency'>"
            ]
          },
          "execution_count": 139,
          "metadata": {},
          "output_type": "execute_result"
        },
        {
          "data": {
            "image/png": "[encoded data removed]",
            "text/plain": [
              "<Figure size 1500x750 with 1 Axes>"
            ]
          },
          "metadata": {},
          "output_type": "display_data"
        }
      ],
      "source": [
        "df[\"LOAN\"].plot.hist(bins = 20,figsize=(15,7.5))\n",
        "\n",
        "# distribution of loan variable\n",
        "# density between 10000-30000 is high"
      ]
    },
    {
      "cell_type": "code",
      "execution_count": 140,
      "metadata": {
        "_cell_guid": "17fc307a-7077-4135-87b5-c306c9242f2f",
        "_uuid": "415cfb6ff40b6907872ccdfbab6fc2e3df393438",
        "colab": {
          "base_uri": "https://localhost:8080/",
          "height": 462
        },
        "collapsed": true,
        "id": "YXX_nxBUgAYb",
        "jupyter": {
          "outputs_hidden": true
        },
        "outputId": "4c670dfa-8fe6-440b-edb0-2266e6098be2"
      },
      "outputs": [
        {
          "data": {
            "text/plain": [
              "<Axes: ylabel='Frequency'>"
            ]
          },
          "execution_count": 140,
          "metadata": {},
          "output_type": "execute_result"
        },
        {
          "data": {
            "image/png": "[encoded data removed]",
            "text/plain": [
              "<Figure size 1500x500 with 1 Axes>"
            ]
          },
          "metadata": {},
          "output_type": "display_data"
        }
      ],
      "source": [
        "df[\"DEBTINC\"].plot.hist(bins = 20,figsize=(15,5))\n",
        " \n",
        "# Highly populated around 25-50\n",
        "# We may cap off the end values if required."
      ]
    },
    {
      "cell_type": "code",
      "execution_count": 141,
      "metadata": {
        "_cell_guid": "c02ade06-82be-408e-bf66-ae638dbd3eb2",
        "_uuid": "1d277ca76a0fda460b709232911fc2bdf43dab7c",
        "colab": {
          "base_uri": "https://localhost:8080/",
          "height": 655
        },
        "collapsed": true,
        "id": "e4sdRQFDgAYb",
        "jupyter": {
          "outputs_hidden": true
        },
        "outputId": "90315807-e598-4a56-aae6-1ed6cce71cae"
      },
      "outputs": [
        {
          "data": {
            "text/plain": [
              "<Axes: ylabel='Frequency'>"
            ]
          },
          "execution_count": 141,
          "metadata": {},
          "output_type": "execute_result"
        },
        {
          "data": {
            "image/png": "[encoded data removed]",
            "text/plain": [
              "<Figure size 1500x750 with 1 Axes>"
            ]
          },
          "metadata": {},
          "output_type": "display_data"
        }
      ],
      "source": [
        "df[\"CLAGE\"].plot.hist(bins = 20,figsize=(15,7.5))\n",
        "\n",
        "# Density is high around 100-300\n",
        "# We can cap off the values >= 600 to get better results"
      ]
    },
    {
      "cell_type": "code",
      "execution_count": 142,
      "metadata": {
        "_cell_guid": "47cf3519-6222-47b1-a79c-8859cc649469",
        "_uuid": "83bf7d2f8009138e4c88292c74f953786b4f3a18",
        "colab": {
          "base_uri": "https://localhost:8080/",
          "height": 462
        },
        "collapsed": true,
        "id": "0Bx0t_CJgAYb",
        "jupyter": {
          "outputs_hidden": true
        },
        "outputId": "e2d5dddd-c989-4539-ddca-10a7fb2bad83"
      },
      "outputs": [
        {
          "data": {
            "text/plain": [
              "<Axes: ylabel='Frequency'>"
            ]
          },
          "execution_count": 142,
          "metadata": {},
          "output_type": "execute_result"
        },
        {
          "data": {
            "image/png": "[encoded data removed]",
            "text/plain": [
              "<Figure size 1500x500 with 1 Axes>"
            ]
          },
          "metadata": {},
          "output_type": "display_data"
        }
      ],
      "source": [
        "df[\"CLNO\"].plot.hist(bins = 20,figsize=(15,5))\n",
        "\n",
        "# This distribution looks good and we need not modify anything here."
      ]
    },
    {
      "cell_type": "code",
      "execution_count": 143,
      "metadata": {
        "_cell_guid": "c3d5cf36-5559-4935-8670-521234e8c57f",
        "_uuid": "01d7d5e95f97199f051bb25aa376e7690a5c9efc",
        "colab": {
          "base_uri": "https://localhost:8080/",
          "height": 655
        },
        "collapsed": true,
        "id": "hII5ZfRggAYc",
        "jupyter": {
          "outputs_hidden": true
        },
        "outputId": "6f523964-fec6-49d4-a896-0597f21b84c1"
      },
      "outputs": [
        {
          "data": {
            "text/plain": [
              "<Axes: ylabel='Frequency'>"
            ]
          },
          "execution_count": 143,
          "metadata": {},
          "output_type": "execute_result"
        },
        {
          "data": {
            "image/png": "[encoded data removed]",
            "text/plain": [
              "<Figure size 1500x750 with 1 Axes>"
            ]
          },
          "metadata": {},
          "output_type": "display_data"
        }
      ],
      "source": [
        "df[\"VALUE\"].plot.hist(bins = 80,figsize=(15,7.5))\n",
        "\n",
        "# Concentration is high around 80000-100000\n",
        "# There are very less values at the end(>= 400000) that are a bit high compared to mean. We can cap these off."
      ]
    },
    {
      "cell_type": "code",
      "execution_count": 144,
      "metadata": {
        "_cell_guid": "9b4b4aff-09cd-4973-b4a9-64908f80cbee",
        "_uuid": "4184e791dc9c2b79738caeb1de97537a9a9b6358",
        "colab": {
          "base_uri": "https://localhost:8080/",
          "height": 655
        },
        "collapsed": true,
        "id": "2SJFYPuMgAYc",
        "jupyter": {
          "outputs_hidden": true
        },
        "outputId": "d6c6a818-3af6-49e5-ef01-23e34a6dec20"
      },
      "outputs": [
        {
          "data": {
            "text/plain": [
              "<Axes: ylabel='Frequency'>"
            ]
          },
          "execution_count": 144,
          "metadata": {},
          "output_type": "execute_result"
        },
        {
          "data": {
            "image/png": "[encoded data removed]",
            "text/plain": [
              "<Figure size 1500x750 with 1 Axes>"
            ]
          },
          "metadata": {},
          "output_type": "display_data"
        }
      ],
      "source": [
        "df[\"MORTDUE\"].plot.hist(bins = 40,figsize=(15,7.5))\n",
        "\n",
        "# Concentration is high around 40000-100000\n",
        "# The values at the end(>= 300000) can be capped off."
      ]
    },
    {
      "cell_type": "code",
      "execution_count": 145,
      "metadata": {
        "_cell_guid": "640703a9-bf59-49b5-952b-63fa9271cb07",
        "_uuid": "3bdf96b470655adb6519811622c044a3da88fa3e",
        "colab": {
          "base_uri": "https://localhost:8080/",
          "height": 655
        },
        "collapsed": true,
        "id": "QQjFh1hRgAYc",
        "jupyter": {
          "outputs_hidden": true
        },
        "outputId": "65b96a4f-4ce1-40c7-d1a6-13031cc96ef2"
      },
      "outputs": [
        {
          "data": {
            "text/plain": [
              "<Axes: ylabel='Frequency'>"
            ]
          },
          "execution_count": 145,
          "metadata": {},
          "output_type": "execute_result"
        },
        {
          "data": {
            "image/png": "[encoded data removed]",
            "text/plain": [
              "<Figure size 1500x750 with 1 Axes>"
            ]
          },
          "metadata": {},
          "output_type": "display_data"
        }
      ],
      "source": [
        "df[\"YOJ\"].plot.hist(bins = 40,figsize=(15,7.5))\n",
        "\n",
        "# This is very skewed. It would be better if we modify this variable to decrease the skewness."
      ]
    },
    {
      "cell_type": "code",
      "execution_count": 146,
      "metadata": {
        "_cell_guid": "ff0830b3-6518-49fc-8604-7017f5dd86f6",
        "_uuid": "4de134a79012663247470776227ff82c70399cd3",
        "colab": {
          "base_uri": "https://localhost:8080/"
        },
        "collapsed": true,
        "id": "_R-Kl61RgAYc",
        "jupyter": {
          "outputs_hidden": true
        },
        "outputId": "e17217f6-3fb3-4db0-8d2f-a009b6d9d65f"
      },
      "outputs": [
        {
          "data": {
            "text/plain": [
              "0.0     4527\n",
              "1.0      435\n",
              "2.0      160\n",
              "3.0       58\n",
              "4.0       23\n",
              "5.0       15\n",
              "6.0       15\n",
              "7.0        8\n",
              "8.0        6\n",
              "9.0        3\n",
              "10.0       2\n",
              "Name: DEROG, dtype: int64"
            ]
          },
          "execution_count": 146,
          "metadata": {},
          "output_type": "execute_result"
        }
      ],
      "source": [
        "df[\"DEROG\"].value_counts()\n",
        "\n",
        "# Derogatory incidents were reported only in few cases.\n",
        "# So,creating a binary variable with values 1 for atleast one derogatory incident and 0 for no such report may be useful."
      ]
    },
    {
      "cell_type": "code",
      "execution_count": 147,
      "metadata": {
        "_cell_guid": "1de12f81-0f42-401b-a6a6-9da98ef89082",
        "_uuid": "373c8c9e48071418bffa7179ec6e65d93f6a957b",
        "colab": {
          "base_uri": "https://localhost:8080/"
        },
        "collapsed": true,
        "id": "5BDL5NSrgAYc",
        "jupyter": {
          "outputs_hidden": true
        },
        "outputId": "9d8211a2-564d-46e9-eb28-fe78f16844dc"
      },
      "outputs": [
        {
          "data": {
            "text/plain": [
              "0.0     4179\n",
              "1.0      654\n",
              "2.0      250\n",
              "3.0      129\n",
              "4.0       78\n",
              "5.0       38\n",
              "6.0       27\n",
              "7.0       13\n",
              "8.0        5\n",
              "10.0       2\n",
              "11.0       2\n",
              "15.0       1\n",
              "12.0       1\n",
              "13.0       1\n",
              "Name: DELINQ, dtype: int64"
            ]
          },
          "execution_count": 147,
          "metadata": {},
          "output_type": "execute_result"
        }
      ],
      "source": [
        "df[\"DELINQ\"].value_counts()\n",
        "\n",
        "# Most of them are zero.\n",
        "# Same as in above case creating a binary variable would be useful."
      ]
    },
    {
      "cell_type": "code",
      "execution_count": 148,
      "metadata": {
        "_cell_guid": "4152e509-3230-4ea3-b1b4-dc90a95ee71d",
        "_uuid": "5d59237ba3eb5c946edf850eac9f37598adb34b3",
        "colab": {
          "base_uri": "https://localhost:8080/"
        },
        "collapsed": true,
        "id": "pSWpMYQDgAYd",
        "jupyter": {
          "outputs_hidden": true
        },
        "outputId": "90ea035c-31ec-4725-b32b-ae64c3f9fa42"
      },
      "outputs": [
        {
          "data": {
            "text/plain": [
              "0.0     2531\n",
              "1.0     1339\n",
              "2.0      780\n",
              "3.0      392\n",
              "4.0      156\n",
              "5.0       75\n",
              "6.0       56\n",
              "7.0       44\n",
              "10.0      28\n",
              "8.0       22\n",
              "9.0       11\n",
              "11.0      10\n",
              "12.0       2\n",
              "13.0       2\n",
              "14.0       1\n",
              "17.0       1\n",
              "Name: NINQ, dtype: int64"
            ]
          },
          "execution_count": 148,
          "metadata": {},
          "output_type": "execute_result"
        }
      ],
      "source": [
        "df[\"NINQ\"].value_counts()\n",
        "\n",
        "# Distributed mostly among first five values"
      ]
    },
    {
      "attachments": {},
      "cell_type": "markdown",
      "metadata": {
        "_cell_guid": "edcfd441-f458-4b83-833d-6d2a0a3c2c0e",
        "_uuid": "1c029e6aee41bbde2ebe65b0b78b35ed395a2117",
        "id": "IlAicAi3gAYd"
      },
      "source": [
        "#### Conclusions :\n",
        "\n",
        "- The distributions are fine and there are no anomalies in the data.\n",
        "<br>\n",
        "- DEBTINC has very high number of missing data(will be taken care of in next section - Imputing the variables).\n",
        "<br>\n",
        "- The feature YOJ is highly skewed and may be modified to decrease skewness.\n",
        "<br>\n",
        "- Nominal features : JOB and REASON must be modified in a way that we can use them for logistic regression model.\n",
        "<br>\n",
        "- DELINQ,DEROG may be divided into 2 classes to create new binary variables.\n",
        "<br>\n",
        "- VALUE,MORTDUE,CLAGE,DEBTINC may be capped off at the end that is values that are very high will be set to a selected lower value.\n",
        "-------------------------------------------------------------------------------------------------------------------------------"
      ]
    },
    {
      "attachments": {},
      "cell_type": "markdown",
      "metadata": {
        "_cell_guid": "cf2bdeea-3e64-4ef1-9c50-2d113cca4159",
        "_uuid": "e3c04699a58e036f518ef0f2f1b7ab06e4241d18",
        "id": "AbwdloE5gAYd"
      },
      "source": [
        "# Inputing the input variables\n",
        "<br>"
      ]
    },
    {
      "cell_type": "code",
      "execution_count": 149,
      "metadata": {
        "_cell_guid": "cb3a019e-a772-49f1-b643-7404389bd9b9",
        "_uuid": "9324154cd3639dd508bf07bd19d98d95b2a43b40",
        "colab": {
          "base_uri": "https://localhost:8080/"
        },
        "collapsed": true,
        "id": "OA1zbHtKgAYd",
        "jupyter": {
          "outputs_hidden": true
        },
        "outputId": "38b51ebf-8ee0-4526-ac58-845db26ec173"
      },
      "outputs": [
        {
          "data": {
            "text/plain": [
              "BAD           0\n",
              "LOAN          0\n",
              "MORTDUE     518\n",
              "VALUE       112\n",
              "REASON      252\n",
              "JOB         279\n",
              "YOJ         515\n",
              "DEROG       708\n",
              "DELINQ      580\n",
              "CLAGE       308\n",
              "NINQ        510\n",
              "CLNO        222\n",
              "DEBTINC    1267\n",
              "dtype: int64"
            ]
          },
          "execution_count": 149,
          "metadata": {},
          "output_type": "execute_result"
        }
      ],
      "source": [
        "df.isnull().sum()\n",
        "\n",
        "# Number of cases with Nan."
      ]
    },
    {
      "attachments": {},
      "cell_type": "markdown",
      "metadata": {
        "_cell_guid": "db63a170-fc07-4c4b-bace-0f695bf0d1d9",
        "_uuid": "42a90c310b09cf665c7f8e78fa3d730cebaf714e",
        "id": "FiuyVPrTgAYd"
      },
      "source": [
        "#### Observations :\n",
        "- Except in the case of DEBTINC, in all other cases only few values were not reported\n",
        "- For imputing the missing values we can think of few ideas like :\n",
        "    - In case of nominal features, replacing them with the majority class\n",
        "    - In case of numeric variables like DEROG and DELINQ,most of the cases are 0.We can replace these with majority class.\n",
        "    - In case of other numerical inputs , we can replace them by median or mean without modifying the much.In this   notebook I am going to replace them by mean of the respective column."
      ]
    },
    {
      "cell_type": "code",
      "execution_count": 150,
      "metadata": {
        "_cell_guid": "26324159-605e-44fc-808a-529a88dc4335",
        "_uuid": "6c96bc432c716f888a2dff18d3a5b10e21a3be9a",
        "collapsed": true,
        "id": "a_F3qrgBgAYe",
        "jupyter": {
          "outputs_hidden": true
        }
      },
      "outputs": [],
      "source": [
        "# Nominal features\n",
        "# Replacement using majority class\n",
        "# majority class in case of JOB variable is Other\n",
        "# majority class in case of REASON varibale is DebtCon\n",
        "\n",
        "df[\"REASON\"].fillna(value = \"DebtCon\",inplace = True)\n",
        "df[\"JOB\"].fillna(value = \"Other\",inplace = True)"
      ]
    },
    {
      "cell_type": "code",
      "execution_count": 151,
      "metadata": {
        "_cell_guid": "2992da60-7992-4c8b-94c1-86497dec98af",
        "_uuid": "45ad614eaac15cfad47fe539de7c2f57e1b61ad0",
        "collapsed": true,
        "id": "gQELT7COgAYe",
        "jupyter": {
          "outputs_hidden": true
        }
      },
      "outputs": [],
      "source": [
        "df[\"DEROG\"].fillna(value=0,inplace=True)\n",
        "df[\"DELINQ\"].fillna(value=0,inplace=True)"
      ]
    },
    {
      "cell_type": "code",
      "execution_count": 152,
      "metadata": {
        "_cell_guid": "0464267c-404e-4fad-81a9-9758133b2ecf",
        "_uuid": "7a141da0fc09f2b9058bf92db2920b7c6b609b6f",
        "colab": {
          "base_uri": "https://localhost:8080/"
        },
        "collapsed": true,
        "id": "gQTzRs_qgAYe",
        "jupyter": {
          "outputs_hidden": true
        },
        "outputId": "11bf5b57-c77e-4e49-d599-de4bcd8c3de3"
      },
      "outputs": [
        {
          "name": "stderr",
          "output_type": "stream",
          "text": [
            "<ipython-input-152-720b10688736>:4: FutureWarning: The default value of numeric_only in DataFrame.mean is deprecated. In a future version, it will default to False. In addition, specifying 'numeric_only=None' is deprecated. Select only valid columns or specify the value of numeric_only to silence this warning.\n",
            "  df.fillna(value=df.mean(),inplace=True)\n"
          ]
        }
      ],
      "source": [
        "# Numeric features\n",
        "# Replacement using mean of each class\n",
        "\n",
        "df.fillna(value=df.mean(),inplace=True)"
      ]
    },
    {
      "cell_type": "code",
      "execution_count": 153,
      "metadata": {
        "_cell_guid": "9786e0f4-bab5-4e9b-b827-a5b89622d8fc",
        "_uuid": "fde2d79626b44d001ce17a7cdac2a8faf713525b",
        "colab": {
          "base_uri": "https://localhost:8080/"
        },
        "collapsed": true,
        "id": "Qw14Ag4hgAYe",
        "jupyter": {
          "outputs_hidden": true
        },
        "outputId": "9f3a09b5-0836-418c-d614-cc37535c7e99"
      },
      "outputs": [
        {
          "data": {
            "text/plain": [
              "BAD        0\n",
              "LOAN       0\n",
              "MORTDUE    0\n",
              "VALUE      0\n",
              "REASON     0\n",
              "JOB        0\n",
              "YOJ        0\n",
              "DEROG      0\n",
              "DELINQ     0\n",
              "CLAGE      0\n",
              "NINQ       0\n",
              "CLNO       0\n",
              "DEBTINC    0\n",
              "dtype: int64"
            ]
          },
          "execution_count": 153,
          "metadata": {},
          "output_type": "execute_result"
        }
      ],
      "source": [
        "df.isnull().sum()\n",
        "\n",
        "# Checking if there is anything left out\n",
        "# As you can see, all missing values are filled"
      ]
    },
    {
      "attachments": {},
      "cell_type": "markdown",
      "metadata": {
        "_cell_guid": "5cbb27b9-d940-4297-8ca9-e94e0a427d08",
        "_uuid": "81fdd8360290e233ed4f43c94bd45048b441c1e2",
        "id": "KjqEEk0IgAYe"
      },
      "source": [
        "##### Final look at the data after filling the missing values"
      ]
    },
    {
      "cell_type": "code",
      "execution_count": 154,
      "metadata": {
        "_cell_guid": "6b9621a7-513f-42fa-83bd-04619fe1b831",
        "_uuid": "e4f79c1eea50ca2a73cb8379af27bbd3839d2324",
        "colab": {
          "base_uri": "https://localhost:8080/",
          "height": 206
        },
        "collapsed": true,
        "id": "AjdPzu4LgAYf",
        "jupyter": {
          "outputs_hidden": true
        },
        "outputId": "56d88ae4-5c91-4b97-90aa-67156454a983",
        "scrolled": true
      },
      "outputs": [
        {
          "data": {
            "text/html": [
              "\n",
              "  <div id=\"df-101ca182-aa9c-4306-8eae-1a5735b5151c\">\n",
              "    <div class=\"colab-df-container\">\n",
              "      <div>\n",
              "<style scoped>\n",
              "    .dataframe tbody tr th:only-of-type {\n",
              "        vertical-align: middle;\n",
              "    }\n",
              "\n",
              "    .dataframe tbody tr th {\n",
              "        vertical-align: top;\n",
              "    }\n",
              "\n",
              "    .dataframe thead th {\n",
              "        text-align: right;\n",
              "    }\n",
              "</style>\n",
              "<table border=\"1\" class=\"dataframe\">\n",
              "  <thead>\n",
              "    <tr style=\"text-align: right;\">\n",
              "      <th></th>\n",
              "      <th>BAD</th>\n",
              "      <th>LOAN</th>\n",
              "      <th>MORTDUE</th>\n",
              "      <th>VALUE</th>\n",
              "      <th>REASON</th>\n",
              "      <th>JOB</th>\n",
              "      <th>YOJ</th>\n",
              "      <th>DEROG</th>\n",
              "      <th>DELINQ</th>\n",
              "      <th>CLAGE</th>\n",
              "      <th>NINQ</th>\n",
              "      <th>CLNO</th>\n",
              "      <th>DEBTINC</th>\n",
              "    </tr>\n",
              "  </thead>\n",
              "  <tbody>\n",
              "    <tr>\n",
              "      <th>0</th>\n",
              "      <td>1</td>\n",
              "      <td>1100</td>\n",
              "      <td>25860.0000</td>\n",
              "      <td>39025.000000</td>\n",
              "      <td>HomeImp</td>\n",
              "      <td>Other</td>\n",
              "      <td>10.500000</td>\n",
              "      <td>0.0</td>\n",
              "      <td>0.0</td>\n",
              "      <td>94.366667</td>\n",
              "      <td>1.000000</td>\n",
              "      <td>9.000000</td>\n",
              "      <td>33.779915</td>\n",
              "    </tr>\n",
              "    <tr>\n",
              "      <th>1</th>\n",
              "      <td>1</td>\n",
              "      <td>1300</td>\n",
              "      <td>70053.0000</td>\n",
              "      <td>68400.000000</td>\n",
              "      <td>HomeImp</td>\n",
              "      <td>Other</td>\n",
              "      <td>7.000000</td>\n",
              "      <td>0.0</td>\n",
              "      <td>2.0</td>\n",
              "      <td>121.833333</td>\n",
              "      <td>0.000000</td>\n",
              "      <td>14.000000</td>\n",
              "      <td>33.779915</td>\n",
              "    </tr>\n",
              "    <tr>\n",
              "      <th>2</th>\n",
              "      <td>1</td>\n",
              "      <td>1500</td>\n",
              "      <td>13500.0000</td>\n",
              "      <td>16700.000000</td>\n",
              "      <td>HomeImp</td>\n",
              "      <td>Other</td>\n",
              "      <td>4.000000</td>\n",
              "      <td>0.0</td>\n",
              "      <td>0.0</td>\n",
              "      <td>149.466667</td>\n",
              "      <td>1.000000</td>\n",
              "      <td>10.000000</td>\n",
              "      <td>33.779915</td>\n",
              "    </tr>\n",
              "    <tr>\n",
              "      <th>3</th>\n",
              "      <td>1</td>\n",
              "      <td>1500</td>\n",
              "      <td>73760.8172</td>\n",
              "      <td>101776.048741</td>\n",
              "      <td>DebtCon</td>\n",
              "      <td>Other</td>\n",
              "      <td>8.922268</td>\n",
              "      <td>0.0</td>\n",
              "      <td>0.0</td>\n",
              "      <td>179.766275</td>\n",
              "      <td>1.186055</td>\n",
              "      <td>21.296096</td>\n",
              "      <td>33.779915</td>\n",
              "    </tr>\n",
              "    <tr>\n",
              "      <th>4</th>\n",
              "      <td>0</td>\n",
              "      <td>1700</td>\n",
              "      <td>97800.0000</td>\n",
              "      <td>112000.000000</td>\n",
              "      <td>HomeImp</td>\n",
              "      <td>Office</td>\n",
              "      <td>3.000000</td>\n",
              "      <td>0.0</td>\n",
              "      <td>0.0</td>\n",
              "      <td>93.333333</td>\n",
              "      <td>0.000000</td>\n",
              "      <td>14.000000</td>\n",
              "      <td>33.779915</td>\n",
              "    </tr>\n",
              "  </tbody>\n",
              "</table>\n",
              "</div>\n",
              "      <button class=\"colab-df-convert\" onclick=\"convertToInteractive('df-101ca182-aa9c-4306-8eae-1a5735b5151c')\"\n",
              "              title=\"Convert this dataframe to an interactive table.\"\n",
              "              style=\"display:none;\">\n",
              "        \n",
              "  <svg xmlns=\"http://www.w3.org/2000/svg\" height=\"24px\"viewBox=\"0 0 24 24\"\n",
              "       width=\"24px\">\n",
              "    <path d=\"M0 0h24v24H0V0z\" fill=\"none\"/>\n",
              "    <path d=\"M18.56 5.44l.94 2.06.94-2.06 2.06-.94-2.06-.94-.94-2.06-.94 2.06-2.06.94zm-11 1L8.5 8.5l.94-2.06 2.06-.94-2.06-.94L8.5 2.5l-.94 2.06-2.06.94zm10 10l.94 2.06.94-2.06 2.06-.94-2.06-.94-.94-2.06-.94 2.06-2.06.94z\"/><path d=\"M17.41 7.96l-1.37-1.37c-.4-.4-.92-.59-1.43-.59-.52 0-1.04.2-1.43.59L10.3 9.45l-7.72 7.72c-.78.78-.78 2.05 0 2.83L4 21.41c.39.39.9.59 1.41.59.51 0 1.02-.2 1.41-.59l7.78-7.78 2.81-2.81c.8-.78.8-2.07 0-2.86zM5.41 20L4 18.59l7.72-7.72 1.47 1.35L5.41 20z\"/>\n",
              "  </svg>\n",
              "      </button>\n",
              "      \n",
              "  <style>\n",
              "    .colab-df-container {\n",
              "      display:flex;\n",
              "      flex-wrap:wrap;\n",
              "      gap: 12px;\n",
              "    }\n",
              "\n",
              "    .colab-df-convert {\n",
              "      background-color: #E8F0FE;\n",
              "      border: none;\n",
              "      border-radius: 50%;\n",
              "      cursor: pointer;\n",
              "      display: none;\n",
              "      fill: #1967D2;\n",
              "      height: 32px;\n",
              "      padding: 0 0 0 0;\n",
              "      width: 32px;\n",
              "    }\n",
              "\n",
              "    .colab-df-convert:hover {\n",
              "      background-color: #E2EBFA;\n",
              "      box-shadow: 0px 1px 2px rgba(60, 64, 67, 0.3), 0px 1px 3px 1px rgba(60, 64, 67, 0.15);\n",
              "      fill: #174EA6;\n",
              "    }\n",
              "\n",
              "    [theme=dark] .colab-df-convert {\n",
              "      background-color: #3B4455;\n",
              "      fill: #D2E3FC;\n",
              "    }\n",
              "\n",
              "    [theme=dark] .colab-df-convert:hover {\n",
              "      background-color: #434B5C;\n",
              "      box-shadow: 0px 1px 3px 1px rgba(0, 0, 0, 0.15);\n",
              "      filter: drop-shadow(0px 1px 2px rgba(0, 0, 0, 0.3));\n",
              "      fill: #FFFFFF;\n",
              "    }\n",
              "  </style>\n",
              "\n",
              "      <script>\n",
              "        const buttonEl =\n",
              "          document.querySelector('#df-101ca182-aa9c-4306-8eae-1a5735b5151c button.colab-df-convert');\n",
              "        buttonEl.style.display =\n",
              "          google.colab.kernel.accessAllowed ? 'block' : 'none';\n",
              "\n",
              "        async function convertToInteractive(key) {\n",
              "          const element = document.querySelector('#df-101ca182-aa9c-4306-8eae-1a5735b5151c');\n",
              "          const dataTable =\n",
              "            await google.colab.kernel.invokeFunction('convertToInteractive',\n",
              "                                                     [key], {});\n",
              "          if (!dataTable) return;\n",
              "\n",
              "          const docLinkHtml = 'Like what you see? Visit the ' +\n",
              "            '<a target=\"_blank\" href=https://colab.research.google.com/notebooks/data_table.ipynb>data table notebook</a>'\n",
              "            + ' to learn more about interactive tables.';\n",
              "          element.innerHTML = '';\n",
              "          dataTable['output_type'] = 'display_data';\n",
              "          await google.colab.output.renderOutput(dataTable, element);\n",
              "          const docLink = document.createElement('div');\n",
              "          docLink.innerHTML = docLinkHtml;\n",
              "          element.appendChild(docLink);\n",
              "        }\n",
              "      </script>\n",
              "    </div>\n",
              "  </div>\n",
              "  "
            ],
            "text/plain": [
              "   BAD  LOAN     MORTDUE          VALUE   REASON     JOB        YOJ  DEROG  \\\n",
              "0    1  1100  25860.0000   39025.000000  HomeImp   Other  10.500000    0.0   \n",
              "1    1  1300  70053.0000   68400.000000  HomeImp   Other   7.000000    0.0   \n",
              "2    1  1500  13500.0000   16700.000000  HomeImp   Other   4.000000    0.0   \n",
              "3    1  1500  73760.8172  101776.048741  DebtCon   Other   8.922268    0.0   \n",
              "4    0  1700  97800.0000  112000.000000  HomeImp  Office   3.000000    0.0   \n",
              "\n",
              "   DELINQ       CLAGE      NINQ       CLNO    DEBTINC  \n",
              "0     0.0   94.366667  1.000000   9.000000  33.779915  \n",
              "1     2.0  121.833333  0.000000  14.000000  33.779915  \n",
              "2     0.0  149.466667  1.000000  10.000000  33.779915  \n",
              "3     0.0  179.766275  1.186055  21.296096  33.779915  \n",
              "4     0.0   93.333333  0.000000  14.000000  33.779915  "
            ]
          },
          "execution_count": 154,
          "metadata": {},
          "output_type": "execute_result"
        }
      ],
      "source": [
        "df.head()"
      ]
    },
    {
      "attachments": {},
      "cell_type": "markdown",
      "metadata": {
        "_cell_guid": "7ea93d14-285f-4c11-9e66-93ecf83934cd",
        "_uuid": "8994a697b848e26025909e5ff3d82effe73575ae",
        "id": "xWMzrUj7gAYf"
      },
      "source": [
        "# Applying the models on the data after imputation\n",
        "- Applying the basic Classification on the data after replacement/imputation.Lets check the performnace by applying both Logistic Regression and Decision tree algorithms.\n",
        "- Before applying the algorithms, The data is split into training and testing sets in the ratio 2:1 that is test data 33% and train data 67%.\n",
        "- And also taking all the columns except JOB,REASON as input features(as they are nominal features, they must be transformed to other variables to be usable which is taken care of in next section)."
      ]
    },
    {
      "cell_type": "code",
      "execution_count": 155,
      "metadata": {
        "_cell_guid": "ea11d909-3809-41d9-976d-c56b3bf07eda",
        "_uuid": "cc0dd44832f644d6f8cca371d60ec76e4c48282e",
        "colab": {
          "base_uri": "https://localhost:8080/"
        },
        "collapsed": true,
        "id": "nmf8RvwbgAYf",
        "jupyter": {
          "outputs_hidden": true
        },
        "outputId": "37ce168a-cd99-448e-ea0e-5924633fbb8a"
      },
      "outputs": [
        {
          "name": "stdout",
          "output_type": "stream",
          "text": [
            "intercept \n",
            "[-1.6e-05]\n",
            "\n",
            "coefficients \n",
            "[[-1.75e-05 -4.04e-06  2.42e-06 -2.45e-04  6.35e-05  9.46e-05 -6.12e-03\n",
            "   7.00e-05 -2.10e-04 -1.50e-04]]\n",
            "\n",
            "accuracy score :  0.7935943060498221\n",
            "f1 score :  0.44246031746031744\n",
            "precision score :  0.39679715302491103\n",
            "recall score :  0.5\n"
          ]
        },
        {
          "name": "stderr",
          "output_type": "stream",
          "text": [
            "/usr/local/lib/python3.10/dist-packages/sklearn/metrics/_classification.py:1344: UndefinedMetricWarning: Precision is ill-defined and being set to 0.0 in labels with no predicted samples. Use `zero_division` parameter to control this behavior.\n",
            "  _warn_prf(average, modifier, msg_start, len(result))\n"
          ]
        }
      ],
      "source": [
        "# importing the required modules\n",
        "from sklearn.model_selection import train_test_split\n",
        "from sklearn.linear_model import LogisticRegression\n",
        "\n",
        "# removing the features BAD,JOB,REASON from the input features set\n",
        "x_basic = df.drop(columns=[\"BAD\",\"JOB\",\"REASON\"])\n",
        "y = df[\"BAD\"]\n",
        "\n",
        "# Spliting the data into test and train sets\n",
        "x_basic_tr,x_basic_te,y_tr,y_te = train_test_split(x_basic,y,test_size =.33,random_state=1)\n",
        "logreg_basic = LogisticRegression()\n",
        "\n",
        "# Training the basic logistic regression model with training set \n",
        "logreg_basic.fit(x_basic_tr,y_tr)\n",
        "\n",
        "# Printing the coefficients\n",
        "print(\"intercept \")\n",
        "print(logreg_basic.intercept_)\n",
        "print(\"\")\n",
        "print(\"coefficients \")\n",
        "print(logreg_basic.coef_)\n",
        "\n",
        "# Predicting the output of the test cases using the algorithm created above\n",
        "y_pre = logreg_basic.predict(x_basic_te)\n",
        "\n",
        "# Validating the algorithm using various Performance metrics\n",
        "from sklearn.metrics import accuracy_score, f1_score, precision_score, recall_score\n",
        "print(\"\")\n",
        "a1 = accuracy_score(y_te,y_pre)\n",
        "f1 = f1_score(y_te, y_pre, average=\"macro\")\n",
        "p1 = precision_score(y_te, y_pre, average=\"macro\")\n",
        "r1 = recall_score(y_te, y_pre, average=\"macro\")\n",
        "print(\"accuracy score : \",a1)\n",
        "print(\"f1 score : \",f1)\n",
        "print(\"precision score : \",p1)\n",
        "print(\"recall score : \",r1)"
      ]
    },
    {
      "cell_type": "code",
      "execution_count": 156,
      "metadata": {
        "_cell_guid": "96aec278-9752-45f3-871d-1e353d648c5a",
        "_uuid": "e95830fc807b428670c1a9f01a348b6485a34c06",
        "collapsed": true,
        "id": "pKOaf-XEgAYf",
        "jupyter": {
          "outputs_hidden": true
        }
      },
      "outputs": [],
      "source": [
        "def plot_confusion_matrix(cm, classes,\n",
        "                          normalize=False,\n",
        "                          title='Confusion matrix',\n",
        "                          cmap=plt.cm.Blues):\n",
        "    \"\"\"\n",
        "    This function prints and plots the confusion matrix.\n",
        "    Normalization can be applied by setting `normalize=True`.\n",
        "    \"\"\"\n",
        "    if normalize:\n",
        "        cm = cm.astype('float') / cm.sum(axis=1)[:, np.newaxis]\n",
        "        print(\"Normalized confusion matrix\")\n",
        "    else:\n",
        "        print('Confusion matrix, without normalization')\n",
        "\n",
        "    print(cm)\n",
        "\n",
        "    plt.imshow(cm, interpolation='nearest', cmap=cmap)\n",
        "    plt.title(title)\n",
        "    plt.colorbar()\n",
        "    tick_marks = np.arange(len(classes))\n",
        "    plt.xticks(tick_marks, classes, rotation=45)\n",
        "    plt.yticks(tick_marks, classes)\n",
        "\n",
        "    fmt = '.2f' if normalize else 'd'\n",
        "    thresh = cm.max() / 2.\n",
        "    for i, j in itertools.product(range(cm.shape[0]), range(cm.shape[1])):\n",
        "        plt.text(j, i, format(cm[i, j], fmt),\n",
        "                 horizontalalignment=\"center\",\n",
        "                 color=\"white\" if cm[i, j] > thresh else \"black\")\n",
        "\n",
        "    plt.tight_layout()\n",
        "    plt.ylabel('True label')\n",
        "    plt.xlabel('Predicted label')"
      ]
    },
    {
      "cell_type": "code",
      "execution_count": 157,
      "metadata": {
        "_cell_guid": "4f9c8467-8096-4314-94d2-fa1c67b95482",
        "_uuid": "969fdbb3a1ab5a52b3926e05341b3fc38f530864",
        "colab": {
          "base_uri": "https://localhost:8080/",
          "height": 558
        },
        "collapsed": true,
        "id": "MnmGqpHWgAYg",
        "jupyter": {
          "outputs_hidden": true
        },
        "outputId": "7d857de8-d490-4f71-a72c-3cc25c0b0601"
      },
      "outputs": [
        {
          "name": "stdout",
          "output_type": "stream",
          "text": [
            "Confusion matrix, without normalization\n",
            "[[1561    0]\n",
            " [ 406    0]]\n"
          ]
        },
        {
          "data": {
            "image/png": "[encoded data removed]",
            "text/plain": [
              "<Figure size 640x480 with 2 Axes>"
            ]
          },
          "metadata": {},
          "output_type": "display_data"
        }
      ],
      "source": [
        "# Computing Confusion matrix for the above algorithm\n",
        "\n",
        "cnf_matrix = confusion_matrix(y_te, y_pre)\n",
        "np.set_printoptions(precision=2)\n",
        "\n",
        "# Plot non-normalized confusion matrix\n",
        "plt.figure()\n",
        "plot_confusion_matrix(cnf_matrix, classes=[\"BAD\"],\n",
        "                      title='Confusion matrix - Logistic Regression Algorithm')\n",
        "\n",
        "plt.show()"
      ]
    },
    {
      "attachments": {},
      "cell_type": "markdown",
      "metadata": {
        "_cell_guid": "e6b54a62-55ef-419b-b17c-67151897fa37",
        "_uuid": "c4a581741b6bc611b1b6480aa980f25b0fc893b6",
        "id": "qlDRXzZggAYh"
      },
      "source": [
        "# Feature transformation"
      ]
    },
    {
      "attachments": {},
      "cell_type": "markdown",
      "metadata": {
        "_cell_guid": "ceb3eeca-2f36-458b-993f-0a912a458c14",
        "_uuid": "8836ea917290833b5a736b0736b84b2c32971688",
        "id": "gbg-FqmggAYi"
      },
      "source": [
        "- Before Feature selection,As discussed in the section \"Distribution of various Features\" we need to transform some variables in order to improve predictability.\n",
        "- We have transform the whole data set not just training set."
      ]
    },
    {
      "cell_type": "code",
      "execution_count": 158,
      "metadata": {
        "_cell_guid": "36ab1024-abb9-4e80-b882-0ea74445eb0c",
        "_uuid": "3d5da69101dd67bc44d59815b9b7d9080269472b",
        "collapsed": true,
        "id": "XUtDH002gAYi",
        "jupyter": {
          "outputs_hidden": true
        }
      },
      "outputs": [],
      "source": [
        "# Capping off the features CLAGE(values >= 600 to 600) , VALUE(values>=400000 to 400000) , MORTDUE(values>=300000 to 300000) and DEBTINC(values >=100 to 100)\n",
        "\n",
        "df.loc[df[\"CLAGE\"]>=600,\"CLAGE\"] = 600\n",
        "df.loc[df[\"VALUE\"]>=400000,\"VALUE\"] = 400000\n",
        "df.loc[df[\"MORTDUE\"]>=300000,\"MORTDUE\"] = 300000\n",
        "df.loc[df[\"DEBTINC\"]>=100,\"DEBTINC\"] = 100"
      ]
    },
    {
      "cell_type": "code",
      "execution_count": 159,
      "metadata": {
        "_cell_guid": "8ad43938-bce6-418f-bc28-d09c3b2ded0a",
        "_uuid": "5be8897ef20883ae16d3f301bfa3126e102051d7",
        "collapsed": true,
        "id": "-eQjPROmgAYi",
        "jupyter": {
          "outputs_hidden": true
        },
        "scrolled": true
      },
      "outputs": [],
      "source": [
        "# Creating new binary vaiables B_DEROG,B_DELINQ from DEROG,DELINQ\n",
        "\n",
        "df[\"B_DEROG\"] = (df[\"DEROG\"]>=1)*1\n",
        "df[\"B_DELINQ\"] = (df[\"DELINQ\"]>=1)*1"
      ]
    },
    {
      "cell_type": "code",
      "execution_count": 160,
      "metadata": {
        "_cell_guid": "694735d3-cee0-4299-9e1c-51b195408a78",
        "_uuid": "b434748c72638d2f6150f00008ae0f62f36617fb",
        "colab": {
          "base_uri": "https://localhost:8080/"
        },
        "collapsed": true,
        "id": "9v8e4fa4gAYi",
        "jupyter": {
          "outputs_hidden": true
        },
        "outputId": "3218b9c7-8c04-471d-9f01-5b18da4aea22"
      },
      "outputs": [
        {
          "data": {
            "text/plain": [
              "array(['Other', 'Office', 'Sales', 'Mgr', 'ProfExe', 'Self'], dtype=object)"
            ]
          },
          "execution_count": 160,
          "metadata": {},
          "output_type": "execute_result"
        }
      ],
      "source": [
        "df[\"JOB\"].unique()"
      ]
    },
    {
      "cell_type": "code",
      "execution_count": 161,
      "metadata": {
        "_cell_guid": "2e6b4f84-82ae-4933-9e33-01261a788ecd",
        "_uuid": "17bc57d6530e1eb8f15dfe767315a9bc46775b6c",
        "collapsed": true,
        "id": "AcirqoYPgAYi",
        "jupyter": {
          "outputs_hidden": true
        }
      },
      "outputs": [],
      "source": [
        "# We need to conert the nominal features JOB and REASON into usable form and remove them from the data table\n",
        "\n",
        "df[\"REASON_1\"] = (df[\"REASON\"] == \"HomeImp\")*1\n",
        "df[\"REASON_2\"] = (df[\"REASON\"] != \"HomeImp\")*1\n",
        "df[\"JOB_1\"] = (df[\"JOB\"]==\"Other\")*1\n",
        "df[\"JOB_2\"] = (df[\"JOB\"]==\"Office\")*1\n",
        "df[\"JOB_3\"] = (df[\"JOB\"]==\"Sales\")*1\n",
        "df[\"JOB_4\"] = (df[\"JOB\"]==\"Mgr\")*1\n",
        "df[\"JOB_5\"] = (df[\"JOB\"]==\"ProfExe\")*1\n",
        "df[\"JOB_6\"] = (df[\"JOB\"]==\"Self\")*1\n",
        "df.drop([\"JOB\",\"REASON\"],axis = 1,inplace = True)\n",
        "\n",
        "# The above assignment creates new features for each JOB and each REASON"
      ]
    },
    {
      "cell_type": "code",
      "execution_count": 162,
      "metadata": {
        "_cell_guid": "2027323b-929c-4370-b617-acf1892e1957",
        "_uuid": "30cc8baf6d5644499872551150cceb575224e795",
        "collapsed": true,
        "id": "KNvcWpgTgAYj",
        "jupyter": {
          "outputs_hidden": true
        }
      },
      "outputs": [],
      "source": [
        "# We need to decrease the skewness of the feature YOJ,For that we can apply log of YOJ but since some of them are 0, we will use log(YOJ+constant)\n",
        "\n",
        "df[\"YOJ\"] = df[\"YOJ\"].apply(lambda t : np.log(t+1))"
      ]
    },
    {
      "cell_type": "code",
      "execution_count": 163,
      "metadata": {
        "_cell_guid": "c929b270-27aa-45db-a32d-e6914126dab1",
        "_uuid": "43d0b79844374cddd4e1e5f3e78825e00391c508",
        "colab": {
          "base_uri": "https://localhost:8080/",
          "height": 236
        },
        "collapsed": true,
        "id": "4igevdj4gAYj",
        "jupyter": {
          "outputs_hidden": true
        },
        "outputId": "3e5fd036-876c-4778-a790-984353378059",
        "scrolled": true
      },
      "outputs": [
        {
          "data": {
            "text/html": [
              "\n",
              "  <div id=\"df-813c49df-18b8-48e7-9606-cf17f12d7cf6\">\n",
              "    <div class=\"colab-df-container\">\n",
              "      <div>\n",
              "<style scoped>\n",
              "    .dataframe tbody tr th:only-of-type {\n",
              "        vertical-align: middle;\n",
              "    }\n",
              "\n",
              "    .dataframe tbody tr th {\n",
              "        vertical-align: top;\n",
              "    }\n",
              "\n",
              "    .dataframe thead th {\n",
              "        text-align: right;\n",
              "    }\n",
              "</style>\n",
              "<table border=\"1\" class=\"dataframe\">\n",
              "  <thead>\n",
              "    <tr style=\"text-align: right;\">\n",
              "      <th></th>\n",
              "      <th>BAD</th>\n",
              "      <th>LOAN</th>\n",
              "      <th>MORTDUE</th>\n",
              "      <th>VALUE</th>\n",
              "      <th>YOJ</th>\n",
              "      <th>DEROG</th>\n",
              "      <th>DELINQ</th>\n",
              "      <th>CLAGE</th>\n",
              "      <th>NINQ</th>\n",
              "      <th>CLNO</th>\n",
              "      <th>...</th>\n",
              "      <th>B_DEROG</th>\n",
              "      <th>B_DELINQ</th>\n",
              "      <th>REASON_1</th>\n",
              "      <th>REASON_2</th>\n",
              "      <th>JOB_1</th>\n",
              "      <th>JOB_2</th>\n",
              "      <th>JOB_3</th>\n",
              "      <th>JOB_4</th>\n",
              "      <th>JOB_5</th>\n",
              "      <th>JOB_6</th>\n",
              "    </tr>\n",
              "  </thead>\n",
              "  <tbody>\n",
              "    <tr>\n",
              "      <th>0</th>\n",
              "      <td>1</td>\n",
              "      <td>1100</td>\n",
              "      <td>25860.0000</td>\n",
              "      <td>39025.000000</td>\n",
              "      <td>2.442347</td>\n",
              "      <td>0.0</td>\n",
              "      <td>0.0</td>\n",
              "      <td>94.366667</td>\n",
              "      <td>1.000000</td>\n",
              "      <td>9.000000</td>\n",
              "      <td>...</td>\n",
              "      <td>0</td>\n",
              "      <td>0</td>\n",
              "      <td>1</td>\n",
              "      <td>0</td>\n",
              "      <td>1</td>\n",
              "      <td>0</td>\n",
              "      <td>0</td>\n",
              "      <td>0</td>\n",
              "      <td>0</td>\n",
              "      <td>0</td>\n",
              "    </tr>\n",
              "    <tr>\n",
              "      <th>1</th>\n",
              "      <td>1</td>\n",
              "      <td>1300</td>\n",
              "      <td>70053.0000</td>\n",
              "      <td>68400.000000</td>\n",
              "      <td>2.079442</td>\n",
              "      <td>0.0</td>\n",
              "      <td>2.0</td>\n",
              "      <td>121.833333</td>\n",
              "      <td>0.000000</td>\n",
              "      <td>14.000000</td>\n",
              "      <td>...</td>\n",
              "      <td>0</td>\n",
              "      <td>1</td>\n",
              "      <td>1</td>\n",
              "      <td>0</td>\n",
              "      <td>1</td>\n",
              "      <td>0</td>\n",
              "      <td>0</td>\n",
              "      <td>0</td>\n",
              "      <td>0</td>\n",
              "      <td>0</td>\n",
              "    </tr>\n",
              "    <tr>\n",
              "      <th>2</th>\n",
              "      <td>1</td>\n",
              "      <td>1500</td>\n",
              "      <td>13500.0000</td>\n",
              "      <td>16700.000000</td>\n",
              "      <td>1.609438</td>\n",
              "      <td>0.0</td>\n",
              "      <td>0.0</td>\n",
              "      <td>149.466667</td>\n",
              "      <td>1.000000</td>\n",
              "      <td>10.000000</td>\n",
              "      <td>...</td>\n",
              "      <td>0</td>\n",
              "      <td>0</td>\n",
              "      <td>1</td>\n",
              "      <td>0</td>\n",
              "      <td>1</td>\n",
              "      <td>0</td>\n",
              "      <td>0</td>\n",
              "      <td>0</td>\n",
              "      <td>0</td>\n",
              "      <td>0</td>\n",
              "    </tr>\n",
              "    <tr>\n",
              "      <th>3</th>\n",
              "      <td>1</td>\n",
              "      <td>1500</td>\n",
              "      <td>73760.8172</td>\n",
              "      <td>101776.048741</td>\n",
              "      <td>2.294782</td>\n",
              "      <td>0.0</td>\n",
              "      <td>0.0</td>\n",
              "      <td>179.766275</td>\n",
              "      <td>1.186055</td>\n",
              "      <td>21.296096</td>\n",
              "      <td>...</td>\n",
              "      <td>0</td>\n",
              "      <td>0</td>\n",
              "      <td>0</td>\n",
              "      <td>1</td>\n",
              "      <td>1</td>\n",
              "      <td>0</td>\n",
              "      <td>0</td>\n",
              "      <td>0</td>\n",
              "      <td>0</td>\n",
              "      <td>0</td>\n",
              "    </tr>\n",
              "    <tr>\n",
              "      <th>4</th>\n",
              "      <td>0</td>\n",
              "      <td>1700</td>\n",
              "      <td>97800.0000</td>\n",
              "      <td>112000.000000</td>\n",
              "      <td>1.386294</td>\n",
              "      <td>0.0</td>\n",
              "      <td>0.0</td>\n",
              "      <td>93.333333</td>\n",
              "      <td>0.000000</td>\n",
              "      <td>14.000000</td>\n",
              "      <td>...</td>\n",
              "      <td>0</td>\n",
              "      <td>0</td>\n",
              "      <td>1</td>\n",
              "      <td>0</td>\n",
              "      <td>0</td>\n",
              "      <td>1</td>\n",
              "      <td>0</td>\n",
              "      <td>0</td>\n",
              "      <td>0</td>\n",
              "      <td>0</td>\n",
              "    </tr>\n",
              "  </tbody>\n",
              "</table>\n",
              "<p>5 rows × 21 columns</p>\n",
              "</div>\n",
              "      <button class=\"colab-df-convert\" onclick=\"convertToInteractive('df-813c49df-18b8-48e7-9606-cf17f12d7cf6')\"\n",
              "              title=\"Convert this dataframe to an interactive table.\"\n",
              "              style=\"display:none;\">\n",
              "        \n",
              "  <svg xmlns=\"http://www.w3.org/2000/svg\" height=\"24px\"viewBox=\"0 0 24 24\"\n",
              "       width=\"24px\">\n",
              "    <path d=\"M0 0h24v24H0V0z\" fill=\"none\"/>\n",
              "    <path d=\"M18.56 5.44l.94 2.06.94-2.06 2.06-.94-2.06-.94-.94-2.06-.94 2.06-2.06.94zm-11 1L8.5 8.5l.94-2.06 2.06-.94-2.06-.94L8.5 2.5l-.94 2.06-2.06.94zm10 10l.94 2.06.94-2.06 2.06-.94-2.06-.94-.94-2.06-.94 2.06-2.06.94z\"/><path d=\"M17.41 7.96l-1.37-1.37c-.4-.4-.92-.59-1.43-.59-.52 0-1.04.2-1.43.59L10.3 9.45l-7.72 7.72c-.78.78-.78 2.05 0 2.83L4 21.41c.39.39.9.59 1.41.59.51 0 1.02-.2 1.41-.59l7.78-7.78 2.81-2.81c.8-.78.8-2.07 0-2.86zM5.41 20L4 18.59l7.72-7.72 1.47 1.35L5.41 20z\"/>\n",
              "  </svg>\n",
              "      </button>\n",
              "      \n",
              "  <style>\n",
              "    .colab-df-container {\n",
              "      display:flex;\n",
              "      flex-wrap:wrap;\n",
              "      gap: 12px;\n",
              "    }\n",
              "\n",
              "    .colab-df-convert {\n",
              "      background-color: #E8F0FE;\n",
              "      border: none;\n",
              "      border-radius: 50%;\n",
              "      cursor: pointer;\n",
              "      display: none;\n",
              "      fill: #1967D2;\n",
              "      height: 32px;\n",
              "      padding: 0 0 0 0;\n",
              "      width: 32px;\n",
              "    }\n",
              "\n",
              "    .colab-df-convert:hover {\n",
              "      background-color: #E2EBFA;\n",
              "      box-shadow: 0px 1px 2px rgba(60, 64, 67, 0.3), 0px 1px 3px 1px rgba(60, 64, 67, 0.15);\n",
              "      fill: #174EA6;\n",
              "    }\n",
              "\n",
              "    [theme=dark] .colab-df-convert {\n",
              "      background-color: #3B4455;\n",
              "      fill: #D2E3FC;\n",
              "    }\n",
              "\n",
              "    [theme=dark] .colab-df-convert:hover {\n",
              "      background-color: #434B5C;\n",
              "      box-shadow: 0px 1px 3px 1px rgba(0, 0, 0, 0.15);\n",
              "      filter: drop-shadow(0px 1px 2px rgba(0, 0, 0, 0.3));\n",
              "      fill: #FFFFFF;\n",
              "    }\n",
              "  </style>\n",
              "\n",
              "      <script>\n",
              "        const buttonEl =\n",
              "          document.querySelector('#df-813c49df-18b8-48e7-9606-cf17f12d7cf6 button.colab-df-convert');\n",
              "        buttonEl.style.display =\n",
              "          google.colab.kernel.accessAllowed ? 'block' : 'none';\n",
              "\n",
              "        async function convertToInteractive(key) {\n",
              "          const element = document.querySelector('#df-813c49df-18b8-48e7-9606-cf17f12d7cf6');\n",
              "          const dataTable =\n",
              "            await google.colab.kernel.invokeFunction('convertToInteractive',\n",
              "                                                     [key], {});\n",
              "          if (!dataTable) return;\n",
              "\n",
              "          const docLinkHtml = 'Like what you see? Visit the ' +\n",
              "            '<a target=\"_blank\" href=https://colab.research.google.com/notebooks/data_table.ipynb>data table notebook</a>'\n",
              "            + ' to learn more about interactive tables.';\n",
              "          element.innerHTML = '';\n",
              "          dataTable['output_type'] = 'display_data';\n",
              "          await google.colab.output.renderOutput(dataTable, element);\n",
              "          const docLink = document.createElement('div');\n",
              "          docLink.innerHTML = docLinkHtml;\n",
              "          element.appendChild(docLink);\n",
              "        }\n",
              "      </script>\n",
              "    </div>\n",
              "  </div>\n",
              "  "
            ],
            "text/plain": [
              "   BAD  LOAN     MORTDUE          VALUE       YOJ  DEROG  DELINQ       CLAGE  \\\n",
              "0    1  1100  25860.0000   39025.000000  2.442347    0.0     0.0   94.366667   \n",
              "1    1  1300  70053.0000   68400.000000  2.079442    0.0     2.0  121.833333   \n",
              "2    1  1500  13500.0000   16700.000000  1.609438    0.0     0.0  149.466667   \n",
              "3    1  1500  73760.8172  101776.048741  2.294782    0.0     0.0  179.766275   \n",
              "4    0  1700  97800.0000  112000.000000  1.386294    0.0     0.0   93.333333   \n",
              "\n",
              "       NINQ       CLNO  ...  B_DEROG  B_DELINQ  REASON_1  REASON_2  JOB_1  \\\n",
              "0  1.000000   9.000000  ...        0         0         1         0      1   \n",
              "1  0.000000  14.000000  ...        0         1         1         0      1   \n",
              "2  1.000000  10.000000  ...        0         0         1         0      1   \n",
              "3  1.186055  21.296096  ...        0         0         0         1      1   \n",
              "4  0.000000  14.000000  ...        0         0         1         0      0   \n",
              "\n",
              "   JOB_2  JOB_3  JOB_4  JOB_5  JOB_6  \n",
              "0      0      0      0      0      0  \n",
              "1      0      0      0      0      0  \n",
              "2      0      0      0      0      0  \n",
              "3      0      0      0      0      0  \n",
              "4      1      0      0      0      0  \n",
              "\n",
              "[5 rows x 21 columns]"
            ]
          },
          "execution_count": 163,
          "metadata": {},
          "output_type": "execute_result"
        }
      ],
      "source": [
        "df.head()"
      ]
    },
    {
      "attachments": {},
      "cell_type": "markdown",
      "metadata": {
        "_cell_guid": "3708713a-521d-46c0-a3ea-df142074ff52",
        "_uuid": "2f1ec7e61b694374dc0bca9eeffd3002864acc8e",
        "id": "-DMG6aT-gAYj"
      },
      "source": [
        "# Feature selection"
      ]
    },
    {
      "attachments": {},
      "cell_type": "markdown",
      "metadata": {
        "_cell_guid": "26dde5ef-ddcd-4200-9b94-7a858987e424",
        "_uuid": "45b1450f0294b4d3cdba4c18092da98546d1306c",
        "id": "Fa8ykBlegAYj"
      },
      "source": [
        "- As we completed the transformation part, now we move on to Feature Selection.Now we will find out the most import features that are affecting the target variable \"BAD\" the most.\n",
        "- We will use the following for this purpose :\n",
        "    - Pearson correlation factor pearson\n",
        "    - chi square test\n",
        "    - f_regression\n",
        "    - f_classif "
      ]
    },
    {
      "attachments": {},
      "cell_type": "markdown",
      "metadata": {
        "_cell_guid": "b1c1b77d-b2cc-44bb-a7e8-c41630d38366",
        "_uuid": "71111881a571b5f043ad44058cc35d24caf726c8",
        "id": "o1GEfNKBgAYk"
      },
      "source": [
        "### Using Pearson Correlation factor for feature selection"
      ]
    },
    {
      "cell_type": "code",
      "execution_count": 164,
      "metadata": {
        "_cell_guid": "f8f82cfb-4bfa-42aa-ae9c-99de79d332a6",
        "_uuid": "f483c388ba8f80f39dcfd31cf96303f0462a92a1",
        "colab": {
          "base_uri": "https://localhost:8080/",
          "height": 801
        },
        "collapsed": true,
        "id": "BEcvZ2HSgAYk",
        "jupyter": {
          "outputs_hidden": true
        },
        "outputId": "c2aa7d0e-0ead-4336-bb08-3d657b2e8ac8"
      },
      "outputs": [
        {
          "data": {
            "text/html": [
              "\n",
              "  <div id=\"df-9f430432-b447-4cc4-aaf0-c5ba00dd7eee\">\n",
              "    <div class=\"colab-df-container\">\n",
              "      <div>\n",
              "<style scoped>\n",
              "    .dataframe tbody tr th:only-of-type {\n",
              "        vertical-align: middle;\n",
              "    }\n",
              "\n",
              "    .dataframe tbody tr th {\n",
              "        vertical-align: top;\n",
              "    }\n",
              "\n",
              "    .dataframe thead th {\n",
              "        text-align: right;\n",
              "    }\n",
              "</style>\n",
              "<table border=\"1\" class=\"dataframe\">\n",
              "  <thead>\n",
              "    <tr style=\"text-align: right;\">\n",
              "      <th></th>\n",
              "      <th>BAD</th>\n",
              "      <th>LOAN</th>\n",
              "      <th>MORTDUE</th>\n",
              "      <th>VALUE</th>\n",
              "      <th>YOJ</th>\n",
              "      <th>DEROG</th>\n",
              "      <th>DELINQ</th>\n",
              "      <th>CLAGE</th>\n",
              "      <th>NINQ</th>\n",
              "      <th>CLNO</th>\n",
              "      <th>...</th>\n",
              "      <th>B_DEROG</th>\n",
              "      <th>B_DELINQ</th>\n",
              "      <th>REASON_1</th>\n",
              "      <th>REASON_2</th>\n",
              "      <th>JOB_1</th>\n",
              "      <th>JOB_2</th>\n",
              "      <th>JOB_3</th>\n",
              "      <th>JOB_4</th>\n",
              "      <th>JOB_5</th>\n",
              "      <th>JOB_6</th>\n",
              "    </tr>\n",
              "  </thead>\n",
              "  <tbody>\n",
              "    <tr>\n",
              "      <th>BAD</th>\n",
              "      <td>1.000000</td>\n",
              "      <td>-0.075099</td>\n",
              "      <td>-0.049420</td>\n",
              "      <td>-0.043711</td>\n",
              "      <td>-0.053066</td>\n",
              "      <td>0.269921</td>\n",
              "      <td>0.346503</td>\n",
              "      <td>-0.173412</td>\n",
              "      <td>0.168851</td>\n",
              "      <td>-0.004067</td>\n",
              "      <td>...</td>\n",
              "      <td>0.261216</td>\n",
              "      <td>0.308153</td>\n",
              "      <td>0.037517</td>\n",
              "      <td>-0.037517</td>\n",
              "      <td>0.037949</td>\n",
              "      <td>-0.073613</td>\n",
              "      <td>0.050934</td>\n",
              "      <td>0.032583</td>\n",
              "      <td>-0.043561</td>\n",
              "      <td>0.046245</td>\n",
              "    </tr>\n",
              "    <tr>\n",
              "      <th>LOAN</th>\n",
              "      <td>-0.075099</td>\n",
              "      <td>1.000000</td>\n",
              "      <td>0.214803</td>\n",
              "      <td>0.338749</td>\n",
              "      <td>0.102458</td>\n",
              "      <td>0.006996</td>\n",
              "      <td>-0.028869</td>\n",
              "      <td>0.088875</td>\n",
              "      <td>0.043160</td>\n",
              "      <td>0.071804</td>\n",
              "      <td>...</td>\n",
              "      <td>0.009079</td>\n",
              "      <td>-0.030646</td>\n",
              "      <td>-0.151477</td>\n",
              "      <td>0.151477</td>\n",
              "      <td>-0.058067</td>\n",
              "      <td>-0.018060</td>\n",
              "      <td>-0.044993</td>\n",
              "      <td>0.018769</td>\n",
              "      <td>0.017488</td>\n",
              "      <td>0.158452</td>\n",
              "    </tr>\n",
              "    <tr>\n",
              "      <th>MORTDUE</th>\n",
              "      <td>-0.049420</td>\n",
              "      <td>0.214803</td>\n",
              "      <td>1.000000</td>\n",
              "      <td>0.816001</td>\n",
              "      <td>-0.052771</td>\n",
              "      <td>-0.046526</td>\n",
              "      <td>0.002095</td>\n",
              "      <td>0.132928</td>\n",
              "      <td>0.026853</td>\n",
              "      <td>0.314779</td>\n",
              "      <td>...</td>\n",
              "      <td>-0.041471</td>\n",
              "      <td>-0.014568</td>\n",
              "      <td>-0.026941</td>\n",
              "      <td>0.026941</td>\n",
              "      <td>-0.259602</td>\n",
              "      <td>-0.066813</td>\n",
              "      <td>0.026023</td>\n",
              "      <td>0.076687</td>\n",
              "      <td>0.256575</td>\n",
              "      <td>0.107944</td>\n",
              "    </tr>\n",
              "    <tr>\n",
              "      <th>VALUE</th>\n",
              "      <td>-0.043711</td>\n",
              "      <td>0.338749</td>\n",
              "      <td>0.816001</td>\n",
              "      <td>1.000000</td>\n",
              "      <td>0.023878</td>\n",
              "      <td>-0.041263</td>\n",
              "      <td>-0.000578</td>\n",
              "      <td>0.178638</td>\n",
              "      <td>-0.004635</td>\n",
              "      <td>0.283654</td>\n",
              "      <td>...</td>\n",
              "      <td>-0.040482</td>\n",
              "      <td>-0.034988</td>\n",
              "      <td>-0.012308</td>\n",
              "      <td>0.012308</td>\n",
              "      <td>-0.288132</td>\n",
              "      <td>-0.058463</td>\n",
              "      <td>0.018250</td>\n",
              "      <td>0.051960</td>\n",
              "      <td>0.282653</td>\n",
              "      <td>0.163060</td>\n",
              "    </tr>\n",
              "    <tr>\n",
              "      <th>YOJ</th>\n",
              "      <td>-0.053066</td>\n",
              "      <td>0.102458</td>\n",
              "      <td>-0.052771</td>\n",
              "      <td>0.023878</td>\n",
              "      <td>1.000000</td>\n",
              "      <td>-0.050552</td>\n",
              "      <td>0.023185</td>\n",
              "      <td>0.145111</td>\n",
              "      <td>-0.052621</td>\n",
              "      <td>0.042928</td>\n",
              "      <td>...</td>\n",
              "      <td>-0.058295</td>\n",
              "      <td>0.023075</td>\n",
              "      <td>0.060306</td>\n",
              "      <td>-0.060306</td>\n",
              "      <td>0.023324</td>\n",
              "      <td>-0.066539</td>\n",
              "      <td>-0.041243</td>\n",
              "      <td>0.029926</td>\n",
              "      <td>0.024664</td>\n",
              "      <td>-0.010586</td>\n",
              "    </tr>\n",
              "    <tr>\n",
              "      <th>DEROG</th>\n",
              "      <td>0.269921</td>\n",
              "      <td>0.006996</td>\n",
              "      <td>-0.046526</td>\n",
              "      <td>-0.041263</td>\n",
              "      <td>-0.050552</td>\n",
              "      <td>1.000000</td>\n",
              "      <td>0.171286</td>\n",
              "      <td>-0.081231</td>\n",
              "      <td>0.146700</td>\n",
              "      <td>0.050727</td>\n",
              "      <td>...</td>\n",
              "      <td>0.755021</td>\n",
              "      <td>0.171622</td>\n",
              "      <td>-0.008406</td>\n",
              "      <td>0.008406</td>\n",
              "      <td>0.034537</td>\n",
              "      <td>-0.049223</td>\n",
              "      <td>0.030659</td>\n",
              "      <td>0.031342</td>\n",
              "      <td>-0.033939</td>\n",
              "      <td>0.000836</td>\n",
              "    </tr>\n",
              "    <tr>\n",
              "      <th>DELINQ</th>\n",
              "      <td>0.346503</td>\n",
              "      <td>-0.028869</td>\n",
              "      <td>0.002095</td>\n",
              "      <td>-0.000578</td>\n",
              "      <td>0.023185</td>\n",
              "      <td>0.171286</td>\n",
              "      <td>1.000000</td>\n",
              "      <td>0.026713</td>\n",
              "      <td>0.057212</td>\n",
              "      <td>0.159378</td>\n",
              "      <td>...</td>\n",
              "      <td>0.188767</td>\n",
              "      <td>0.748356</td>\n",
              "      <td>0.004024</td>\n",
              "      <td>-0.004024</td>\n",
              "      <td>-0.044718</td>\n",
              "      <td>0.005268</td>\n",
              "      <td>-0.016502</td>\n",
              "      <td>0.059350</td>\n",
              "      <td>-0.002911</td>\n",
              "      <td>0.021694</td>\n",
              "    </tr>\n",
              "    <tr>\n",
              "      <th>CLAGE</th>\n",
              "      <td>-0.173412</td>\n",
              "      <td>0.088875</td>\n",
              "      <td>0.132928</td>\n",
              "      <td>0.178638</td>\n",
              "      <td>0.145111</td>\n",
              "      <td>-0.081231</td>\n",
              "      <td>0.026713</td>\n",
              "      <td>1.000000</td>\n",
              "      <td>-0.110857</td>\n",
              "      <td>0.242213</td>\n",
              "      <td>...</td>\n",
              "      <td>-0.083332</td>\n",
              "      <td>0.007707</td>\n",
              "      <td>0.050670</td>\n",
              "      <td>-0.050670</td>\n",
              "      <td>-0.080490</td>\n",
              "      <td>0.000032</td>\n",
              "      <td>0.026502</td>\n",
              "      <td>-0.022948</td>\n",
              "      <td>0.112309</td>\n",
              "      <td>-0.010872</td>\n",
              "    </tr>\n",
              "    <tr>\n",
              "      <th>NINQ</th>\n",
              "      <td>0.168851</td>\n",
              "      <td>0.043160</td>\n",
              "      <td>0.026853</td>\n",
              "      <td>-0.004635</td>\n",
              "      <td>-0.052621</td>\n",
              "      <td>0.146700</td>\n",
              "      <td>0.057212</td>\n",
              "      <td>-0.110857</td>\n",
              "      <td>1.000000</td>\n",
              "      <td>0.085148</td>\n",
              "      <td>...</td>\n",
              "      <td>0.152237</td>\n",
              "      <td>0.059767</td>\n",
              "      <td>-0.115992</td>\n",
              "      <td>0.115992</td>\n",
              "      <td>0.054470</td>\n",
              "      <td>-0.063735</td>\n",
              "      <td>-0.035677</td>\n",
              "      <td>0.069826</td>\n",
              "      <td>-0.061553</td>\n",
              "      <td>0.016229</td>\n",
              "    </tr>\n",
              "    <tr>\n",
              "      <th>CLNO</th>\n",
              "      <td>-0.004067</td>\n",
              "      <td>0.071804</td>\n",
              "      <td>0.314779</td>\n",
              "      <td>0.283654</td>\n",
              "      <td>0.042928</td>\n",
              "      <td>0.050727</td>\n",
              "      <td>0.159378</td>\n",
              "      <td>0.242213</td>\n",
              "      <td>0.085148</td>\n",
              "      <td>1.000000</td>\n",
              "      <td>...</td>\n",
              "      <td>0.035880</td>\n",
              "      <td>0.154674</td>\n",
              "      <td>-0.107224</td>\n",
              "      <td>0.107224</td>\n",
              "      <td>-0.197815</td>\n",
              "      <td>-0.004549</td>\n",
              "      <td>0.049185</td>\n",
              "      <td>0.060210</td>\n",
              "      <td>0.165109</td>\n",
              "      <td>0.031325</td>\n",
              "    </tr>\n",
              "    <tr>\n",
              "      <th>DEBTINC</th>\n",
              "      <td>0.122494</td>\n",
              "      <td>0.074101</td>\n",
              "      <td>0.132220</td>\n",
              "      <td>0.120090</td>\n",
              "      <td>-0.049355</td>\n",
              "      <td>0.011852</td>\n",
              "      <td>0.036862</td>\n",
              "      <td>-0.038756</td>\n",
              "      <td>0.118993</td>\n",
              "      <td>0.168998</td>\n",
              "      <td>...</td>\n",
              "      <td>0.015959</td>\n",
              "      <td>0.044333</td>\n",
              "      <td>-0.034690</td>\n",
              "      <td>0.034690</td>\n",
              "      <td>-0.024767</td>\n",
              "      <td>0.030574</td>\n",
              "      <td>0.034910</td>\n",
              "      <td>0.064208</td>\n",
              "      <td>-0.072806</td>\n",
              "      <td>0.027225</td>\n",
              "    </tr>\n",
              "    <tr>\n",
              "      <th>B_DEROG</th>\n",
              "      <td>0.261216</td>\n",
              "      <td>0.009079</td>\n",
              "      <td>-0.041471</td>\n",
              "      <td>-0.040482</td>\n",
              "      <td>-0.058295</td>\n",
              "      <td>0.755021</td>\n",
              "      <td>0.188767</td>\n",
              "      <td>-0.083332</td>\n",
              "      <td>0.152237</td>\n",
              "      <td>0.035880</td>\n",
              "      <td>...</td>\n",
              "      <td>1.000000</td>\n",
              "      <td>0.189266</td>\n",
              "      <td>-0.018536</td>\n",
              "      <td>0.018536</td>\n",
              "      <td>0.031563</td>\n",
              "      <td>-0.055184</td>\n",
              "      <td>0.033484</td>\n",
              "      <td>0.036328</td>\n",
              "      <td>-0.041568</td>\n",
              "      <td>0.027614</td>\n",
              "    </tr>\n",
              "    <tr>\n",
              "      <th>B_DELINQ</th>\n",
              "      <td>0.308153</td>\n",
              "      <td>-0.030646</td>\n",
              "      <td>-0.014568</td>\n",
              "      <td>-0.034988</td>\n",
              "      <td>0.023075</td>\n",
              "      <td>0.171622</td>\n",
              "      <td>0.748356</td>\n",
              "      <td>0.007707</td>\n",
              "      <td>0.059767</td>\n",
              "      <td>0.154674</td>\n",
              "      <td>...</td>\n",
              "      <td>0.189266</td>\n",
              "      <td>1.000000</td>\n",
              "      <td>0.015822</td>\n",
              "      <td>-0.015822</td>\n",
              "      <td>-0.024755</td>\n",
              "      <td>0.009113</td>\n",
              "      <td>-0.018620</td>\n",
              "      <td>0.049268</td>\n",
              "      <td>-0.010327</td>\n",
              "      <td>-0.004469</td>\n",
              "    </tr>\n",
              "    <tr>\n",
              "      <th>REASON_1</th>\n",
              "      <td>0.037517</td>\n",
              "      <td>-0.151477</td>\n",
              "      <td>-0.026941</td>\n",
              "      <td>-0.012308</td>\n",
              "      <td>0.060306</td>\n",
              "      <td>-0.008406</td>\n",
              "      <td>0.004024</td>\n",
              "      <td>0.050670</td>\n",
              "      <td>-0.115992</td>\n",
              "      <td>-0.107224</td>\n",
              "      <td>...</td>\n",
              "      <td>-0.018536</td>\n",
              "      <td>0.015822</td>\n",
              "      <td>1.000000</td>\n",
              "      <td>-1.000000</td>\n",
              "      <td>-0.017341</td>\n",
              "      <td>0.017915</td>\n",
              "      <td>-0.056235</td>\n",
              "      <td>-0.060292</td>\n",
              "      <td>0.021372</td>\n",
              "      <td>0.118795</td>\n",
              "    </tr>\n",
              "    <tr>\n",
              "      <th>REASON_2</th>\n",
              "      <td>-0.037517</td>\n",
              "      <td>0.151477</td>\n",
              "      <td>0.026941</td>\n",
              "      <td>0.012308</td>\n",
              "      <td>-0.060306</td>\n",
              "      <td>0.008406</td>\n",
              "      <td>-0.004024</td>\n",
              "      <td>-0.050670</td>\n",
              "      <td>0.115992</td>\n",
              "      <td>0.107224</td>\n",
              "      <td>...</td>\n",
              "      <td>0.018536</td>\n",
              "      <td>-0.015822</td>\n",
              "      <td>-1.000000</td>\n",
              "      <td>1.000000</td>\n",
              "      <td>0.017341</td>\n",
              "      <td>-0.017915</td>\n",
              "      <td>0.056235</td>\n",
              "      <td>0.060292</td>\n",
              "      <td>-0.021372</td>\n",
              "      <td>-0.118795</td>\n",
              "    </tr>\n",
              "    <tr>\n",
              "      <th>JOB_1</th>\n",
              "      <td>0.037949</td>\n",
              "      <td>-0.058067</td>\n",
              "      <td>-0.259602</td>\n",
              "      <td>-0.288132</td>\n",
              "      <td>0.023324</td>\n",
              "      <td>0.034537</td>\n",
              "      <td>-0.044718</td>\n",
              "      <td>-0.080490</td>\n",
              "      <td>0.054470</td>\n",
              "      <td>-0.197815</td>\n",
              "      <td>...</td>\n",
              "      <td>0.031563</td>\n",
              "      <td>-0.024755</td>\n",
              "      <td>-0.017341</td>\n",
              "      <td>0.017341</td>\n",
              "      <td>1.000000</td>\n",
              "      <td>-0.391394</td>\n",
              "      <td>-0.122833</td>\n",
              "      <td>-0.345863</td>\n",
              "      <td>-0.469713</td>\n",
              "      <td>-0.164634</td>\n",
              "    </tr>\n",
              "    <tr>\n",
              "      <th>JOB_2</th>\n",
              "      <td>-0.073613</td>\n",
              "      <td>-0.018060</td>\n",
              "      <td>-0.066813</td>\n",
              "      <td>-0.058463</td>\n",
              "      <td>-0.066539</td>\n",
              "      <td>-0.049223</td>\n",
              "      <td>0.005268</td>\n",
              "      <td>0.000032</td>\n",
              "      <td>-0.063735</td>\n",
              "      <td>-0.004549</td>\n",
              "      <td>...</td>\n",
              "      <td>-0.055184</td>\n",
              "      <td>0.009113</td>\n",
              "      <td>0.017915</td>\n",
              "      <td>-0.017915</td>\n",
              "      <td>-0.391394</td>\n",
              "      <td>1.000000</td>\n",
              "      <td>-0.059360</td>\n",
              "      <td>-0.167143</td>\n",
              "      <td>-0.226995</td>\n",
              "      <td>-0.079561</td>\n",
              "    </tr>\n",
              "    <tr>\n",
              "      <th>JOB_3</th>\n",
              "      <td>0.050934</td>\n",
              "      <td>-0.044993</td>\n",
              "      <td>0.026023</td>\n",
              "      <td>0.018250</td>\n",
              "      <td>-0.041243</td>\n",
              "      <td>0.030659</td>\n",
              "      <td>-0.016502</td>\n",
              "      <td>0.026502</td>\n",
              "      <td>-0.035677</td>\n",
              "      <td>0.049185</td>\n",
              "      <td>...</td>\n",
              "      <td>0.033484</td>\n",
              "      <td>-0.018620</td>\n",
              "      <td>-0.056235</td>\n",
              "      <td>0.056235</td>\n",
              "      <td>-0.122833</td>\n",
              "      <td>-0.059360</td>\n",
              "      <td>1.000000</td>\n",
              "      <td>-0.052455</td>\n",
              "      <td>-0.071239</td>\n",
              "      <td>-0.024969</td>\n",
              "    </tr>\n",
              "    <tr>\n",
              "      <th>JOB_4</th>\n",
              "      <td>0.032583</td>\n",
              "      <td>0.018769</td>\n",
              "      <td>0.076687</td>\n",
              "      <td>0.051960</td>\n",
              "      <td>0.029926</td>\n",
              "      <td>0.031342</td>\n",
              "      <td>0.059350</td>\n",
              "      <td>-0.022948</td>\n",
              "      <td>0.069826</td>\n",
              "      <td>0.060210</td>\n",
              "      <td>...</td>\n",
              "      <td>0.036328</td>\n",
              "      <td>0.049268</td>\n",
              "      <td>-0.060292</td>\n",
              "      <td>0.060292</td>\n",
              "      <td>-0.345863</td>\n",
              "      <td>-0.167143</td>\n",
              "      <td>-0.052455</td>\n",
              "      <td>1.000000</td>\n",
              "      <td>-0.200588</td>\n",
              "      <td>-0.070306</td>\n",
              "    </tr>\n",
              "    <tr>\n",
              "      <th>JOB_5</th>\n",
              "      <td>-0.043561</td>\n",
              "      <td>0.017488</td>\n",
              "      <td>0.256575</td>\n",
              "      <td>0.282653</td>\n",
              "      <td>0.024664</td>\n",
              "      <td>-0.033939</td>\n",
              "      <td>-0.002911</td>\n",
              "      <td>0.112309</td>\n",
              "      <td>-0.061553</td>\n",
              "      <td>0.165109</td>\n",
              "      <td>...</td>\n",
              "      <td>-0.041568</td>\n",
              "      <td>-0.010327</td>\n",
              "      <td>0.021372</td>\n",
              "      <td>-0.021372</td>\n",
              "      <td>-0.469713</td>\n",
              "      <td>-0.226995</td>\n",
              "      <td>-0.071239</td>\n",
              "      <td>-0.200588</td>\n",
              "      <td>1.000000</td>\n",
              "      <td>-0.095482</td>\n",
              "    </tr>\n",
              "    <tr>\n",
              "      <th>JOB_6</th>\n",
              "      <td>0.046245</td>\n",
              "      <td>0.158452</td>\n",
              "      <td>0.107944</td>\n",
              "      <td>0.163060</td>\n",
              "      <td>-0.010586</td>\n",
              "      <td>0.000836</td>\n",
              "      <td>0.021694</td>\n",
              "      <td>-0.010872</td>\n",
              "      <td>0.016229</td>\n",
              "      <td>0.031325</td>\n",
              "      <td>...</td>\n",
              "      <td>0.027614</td>\n",
              "      <td>-0.004469</td>\n",
              "      <td>0.118795</td>\n",
              "      <td>-0.118795</td>\n",
              "      <td>-0.164634</td>\n",
              "      <td>-0.079561</td>\n",
              "      <td>-0.024969</td>\n",
              "      <td>-0.070306</td>\n",
              "      <td>-0.095482</td>\n",
              "      <td>1.000000</td>\n",
              "    </tr>\n",
              "  </tbody>\n",
              "</table>\n",
              "<p>21 rows × 21 columns</p>\n",
              "</div>\n",
              "      <button class=\"colab-df-convert\" onclick=\"convertToInteractive('df-9f430432-b447-4cc4-aaf0-c5ba00dd7eee')\"\n",
              "              title=\"Convert this dataframe to an interactive table.\"\n",
              "              style=\"display:none;\">\n",
              "        \n",
              "  <svg xmlns=\"http://www.w3.org/2000/svg\" height=\"24px\"viewBox=\"0 0 24 24\"\n",
              "       width=\"24px\">\n",
              "    <path d=\"M0 0h24v24H0V0z\" fill=\"none\"/>\n",
              "    <path d=\"M18.56 5.44l.94 2.06.94-2.06 2.06-.94-2.06-.94-.94-2.06-.94 2.06-2.06.94zm-11 1L8.5 8.5l.94-2.06 2.06-.94-2.06-.94L8.5 2.5l-.94 2.06-2.06.94zm10 10l.94 2.06.94-2.06 2.06-.94-2.06-.94-.94-2.06-.94 2.06-2.06.94z\"/><path d=\"M17.41 7.96l-1.37-1.37c-.4-.4-.92-.59-1.43-.59-.52 0-1.04.2-1.43.59L10.3 9.45l-7.72 7.72c-.78.78-.78 2.05 0 2.83L4 21.41c.39.39.9.59 1.41.59.51 0 1.02-.2 1.41-.59l7.78-7.78 2.81-2.81c.8-.78.8-2.07 0-2.86zM5.41 20L4 18.59l7.72-7.72 1.47 1.35L5.41 20z\"/>\n",
              "  </svg>\n",
              "      </button>\n",
              "      \n",
              "  <style>\n",
              "    .colab-df-container {\n",
              "      display:flex;\n",
              "      flex-wrap:wrap;\n",
              "      gap: 12px;\n",
              "    }\n",
              "\n",
              "    .colab-df-convert {\n",
              "      background-color: #E8F0FE;\n",
              "      border: none;\n",
              "      border-radius: 50%;\n",
              "      cursor: pointer;\n",
              "      display: none;\n",
              "      fill: #1967D2;\n",
              "      height: 32px;\n",
              "      padding: 0 0 0 0;\n",
              "      width: 32px;\n",
              "    }\n",
              "\n",
              "    .colab-df-convert:hover {\n",
              "      background-color: #E2EBFA;\n",
              "      box-shadow: 0px 1px 2px rgba(60, 64, 67, 0.3), 0px 1px 3px 1px rgba(60, 64, 67, 0.15);\n",
              "      fill: #174EA6;\n",
              "    }\n",
              "\n",
              "    [theme=dark] .colab-df-convert {\n",
              "      background-color: #3B4455;\n",
              "      fill: #D2E3FC;\n",
              "    }\n",
              "\n",
              "    [theme=dark] .colab-df-convert:hover {\n",
              "      background-color: #434B5C;\n",
              "      box-shadow: 0px 1px 3px 1px rgba(0, 0, 0, 0.15);\n",
              "      filter: drop-shadow(0px 1px 2px rgba(0, 0, 0, 0.3));\n",
              "      fill: #FFFFFF;\n",
              "    }\n",
              "  </style>\n",
              "\n",
              "      <script>\n",
              "        const buttonEl =\n",
              "          document.querySelector('#df-9f430432-b447-4cc4-aaf0-c5ba00dd7eee button.colab-df-convert');\n",
              "        buttonEl.style.display =\n",
              "          google.colab.kernel.accessAllowed ? 'block' : 'none';\n",
              "\n",
              "        async function convertToInteractive(key) {\n",
              "          const element = document.querySelector('#df-9f430432-b447-4cc4-aaf0-c5ba00dd7eee');\n",
              "          const dataTable =\n",
              "            await google.colab.kernel.invokeFunction('convertToInteractive',\n",
              "                                                     [key], {});\n",
              "          if (!dataTable) return;\n",
              "\n",
              "          const docLinkHtml = 'Like what you see? Visit the ' +\n",
              "            '<a target=\"_blank\" href=https://colab.research.google.com/notebooks/data_table.ipynb>data table notebook</a>'\n",
              "            + ' to learn more about interactive tables.';\n",
              "          element.innerHTML = '';\n",
              "          dataTable['output_type'] = 'display_data';\n",
              "          await google.colab.output.renderOutput(dataTable, element);\n",
              "          const docLink = document.createElement('div');\n",
              "          docLink.innerHTML = docLinkHtml;\n",
              "          element.appendChild(docLink);\n",
              "        }\n",
              "      </script>\n",
              "    </div>\n",
              "  </div>\n",
              "  "
            ],
            "text/plain": [
              "               BAD      LOAN   MORTDUE     VALUE       YOJ     DEROG  \\\n",
              "BAD       1.000000 -0.075099 -0.049420 -0.043711 -0.053066  0.269921   \n",
              "LOAN     -0.075099  1.000000  0.214803  0.338749  0.102458  0.006996   \n",
              "MORTDUE  -0.049420  0.214803  1.000000  0.816001 -0.052771 -0.046526   \n",
              "VALUE    -0.043711  0.338749  0.816001  1.000000  0.023878 -0.041263   \n",
              "YOJ      -0.053066  0.102458 -0.052771  0.023878  1.000000 -0.050552   \n",
              "DEROG     0.269921  0.006996 -0.046526 -0.041263 -0.050552  1.000000   \n",
              "DELINQ    0.346503 -0.028869  0.002095 -0.000578  0.023185  0.171286   \n",
              "CLAGE    -0.173412  0.088875  0.132928  0.178638  0.145111 -0.081231   \n",
              "NINQ      0.168851  0.043160  0.026853 -0.004635 -0.052621  0.146700   \n",
              "CLNO     -0.004067  0.071804  0.314779  0.283654  0.042928  0.050727   \n",
              "DEBTINC   0.122494  0.074101  0.132220  0.120090 -0.049355  0.011852   \n",
              "B_DEROG   0.261216  0.009079 -0.041471 -0.040482 -0.058295  0.755021   \n",
              "B_DELINQ  0.308153 -0.030646 -0.014568 -0.034988  0.023075  0.171622   \n",
              "REASON_1  0.037517 -0.151477 -0.026941 -0.012308  0.060306 -0.008406   \n",
              "REASON_2 -0.037517  0.151477  0.026941  0.012308 -0.060306  0.008406   \n",
              "JOB_1     0.037949 -0.058067 -0.259602 -0.288132  0.023324  0.034537   \n",
              "JOB_2    -0.073613 -0.018060 -0.066813 -0.058463 -0.066539 -0.049223   \n",
              "JOB_3     0.050934 -0.044993  0.026023  0.018250 -0.041243  0.030659   \n",
              "JOB_4     0.032583  0.018769  0.076687  0.051960  0.029926  0.031342   \n",
              "JOB_5    -0.043561  0.017488  0.256575  0.282653  0.024664 -0.033939   \n",
              "JOB_6     0.046245  0.158452  0.107944  0.163060 -0.010586  0.000836   \n",
              "\n",
              "            DELINQ     CLAGE      NINQ      CLNO  ...   B_DEROG  B_DELINQ  \\\n",
              "BAD       0.346503 -0.173412  0.168851 -0.004067  ...  0.261216  0.308153   \n",
              "LOAN     -0.028869  0.088875  0.043160  0.071804  ...  0.009079 -0.030646   \n",
              "MORTDUE   0.002095  0.132928  0.026853  0.314779  ... -0.041471 -0.014568   \n",
              "VALUE    -0.000578  0.178638 -0.004635  0.283654  ... -0.040482 -0.034988   \n",
              "YOJ       0.023185  0.145111 -0.052621  0.042928  ... -0.058295  0.023075   \n",
              "DEROG     0.171286 -0.081231  0.146700  0.050727  ...  0.755021  0.171622   \n",
              "DELINQ    1.000000  0.026713  0.057212  0.159378  ...  0.188767  0.748356   \n",
              "CLAGE     0.026713  1.000000 -0.110857  0.242213  ... -0.083332  0.007707   \n",
              "NINQ      0.057212 -0.110857  1.000000  0.085148  ...  0.152237  0.059767   \n",
              "CLNO      0.159378  0.242213  0.085148  1.000000  ...  0.035880  0.154674   \n",
              "DEBTINC   0.036862 -0.038756  0.118993  0.168998  ...  0.015959  0.044333   \n",
              "B_DEROG   0.188767 -0.083332  0.152237  0.035880  ...  1.000000  0.189266   \n",
              "B_DELINQ  0.748356  0.007707  0.059767  0.154674  ...  0.189266  1.000000   \n",
              "REASON_1  0.004024  0.050670 -0.115992 -0.107224  ... -0.018536  0.015822   \n",
              "REASON_2 -0.004024 -0.050670  0.115992  0.107224  ...  0.018536 -0.015822   \n",
              "JOB_1    -0.044718 -0.080490  0.054470 -0.197815  ...  0.031563 -0.024755   \n",
              "JOB_2     0.005268  0.000032 -0.063735 -0.004549  ... -0.055184  0.009113   \n",
              "JOB_3    -0.016502  0.026502 -0.035677  0.049185  ...  0.033484 -0.018620   \n",
              "JOB_4     0.059350 -0.022948  0.069826  0.060210  ...  0.036328  0.049268   \n",
              "JOB_5    -0.002911  0.112309 -0.061553  0.165109  ... -0.041568 -0.010327   \n",
              "JOB_6     0.021694 -0.010872  0.016229  0.031325  ...  0.027614 -0.004469   \n",
              "\n",
              "          REASON_1  REASON_2     JOB_1     JOB_2     JOB_3     JOB_4  \\\n",
              "BAD       0.037517 -0.037517  0.037949 -0.073613  0.050934  0.032583   \n",
              "LOAN     -0.151477  0.151477 -0.058067 -0.018060 -0.044993  0.018769   \n",
              "MORTDUE  -0.026941  0.026941 -0.259602 -0.066813  0.026023  0.076687   \n",
              "VALUE    -0.012308  0.012308 -0.288132 -0.058463  0.018250  0.051960   \n",
              "YOJ       0.060306 -0.060306  0.023324 -0.066539 -0.041243  0.029926   \n",
              "DEROG    -0.008406  0.008406  0.034537 -0.049223  0.030659  0.031342   \n",
              "DELINQ    0.004024 -0.004024 -0.044718  0.005268 -0.016502  0.059350   \n",
              "CLAGE     0.050670 -0.050670 -0.080490  0.000032  0.026502 -0.022948   \n",
              "NINQ     -0.115992  0.115992  0.054470 -0.063735 -0.035677  0.069826   \n",
              "CLNO     -0.107224  0.107224 -0.197815 -0.004549  0.049185  0.060210   \n",
              "DEBTINC  -0.034690  0.034690 -0.024767  0.030574  0.034910  0.064208   \n",
              "B_DEROG  -0.018536  0.018536  0.031563 -0.055184  0.033484  0.036328   \n",
              "B_DELINQ  0.015822 -0.015822 -0.024755  0.009113 -0.018620  0.049268   \n",
              "REASON_1  1.000000 -1.000000 -0.017341  0.017915 -0.056235 -0.060292   \n",
              "REASON_2 -1.000000  1.000000  0.017341 -0.017915  0.056235  0.060292   \n",
              "JOB_1    -0.017341  0.017341  1.000000 -0.391394 -0.122833 -0.345863   \n",
              "JOB_2     0.017915 -0.017915 -0.391394  1.000000 -0.059360 -0.167143   \n",
              "JOB_3    -0.056235  0.056235 -0.122833 -0.059360  1.000000 -0.052455   \n",
              "JOB_4    -0.060292  0.060292 -0.345863 -0.167143 -0.052455  1.000000   \n",
              "JOB_5     0.021372 -0.021372 -0.469713 -0.226995 -0.071239 -0.200588   \n",
              "JOB_6     0.118795 -0.118795 -0.164634 -0.079561 -0.024969 -0.070306   \n",
              "\n",
              "             JOB_5     JOB_6  \n",
              "BAD      -0.043561  0.046245  \n",
              "LOAN      0.017488  0.158452  \n",
              "MORTDUE   0.256575  0.107944  \n",
              "VALUE     0.282653  0.163060  \n",
              "YOJ       0.024664 -0.010586  \n",
              "DEROG    -0.033939  0.000836  \n",
              "DELINQ   -0.002911  0.021694  \n",
              "CLAGE     0.112309 -0.010872  \n",
              "NINQ     -0.061553  0.016229  \n",
              "CLNO      0.165109  0.031325  \n",
              "DEBTINC  -0.072806  0.027225  \n",
              "B_DEROG  -0.041568  0.027614  \n",
              "B_DELINQ -0.010327 -0.004469  \n",
              "REASON_1  0.021372  0.118795  \n",
              "REASON_2 -0.021372 -0.118795  \n",
              "JOB_1    -0.469713 -0.164634  \n",
              "JOB_2    -0.226995 -0.079561  \n",
              "JOB_3    -0.071239 -0.024969  \n",
              "JOB_4    -0.200588 -0.070306  \n",
              "JOB_5     1.000000 -0.095482  \n",
              "JOB_6    -0.095482  1.000000  \n",
              "\n",
              "[21 rows x 21 columns]"
            ]
          },
          "execution_count": 164,
          "metadata": {},
          "output_type": "execute_result"
        }
      ],
      "source": [
        "# Finding correlation between all the features and the target feature \"BAD\"\n",
        "\n",
        "df.corr(method='pearson')"
      ]
    },
    {
      "cell_type": "code",
      "execution_count": 165,
      "metadata": {
        "_cell_guid": "19895063-f4ae-469a-acde-2a4de0a575e5",
        "_uuid": "bf131e30f1a12f158318b333f63f4181df51b732",
        "collapsed": true,
        "id": "ozzl_hOSgAYk",
        "jupyter": {
          "outputs_hidden": true
        }
      },
      "outputs": [],
      "source": [
        "# Gathering the 2 feature sets with high peason correlation value,one with 7 and other with 10 features in it\n",
        "\n",
        "feat1=[\"DEROG\",\"DELINQ\",\"CLAGE\",\"NINQ\",\"DEBTINC\",\"YOJ\",\"LOAN\"]\n",
        "#feat2=[\"DEROG\",\"DELINQ\",\"CLAGE\",\"NINQ\",\"DEBTINC\",\"LOAN\",\"JOB_2\",\"YOJ\",\"JOB_3\",\"MORTDUE\"]"
      ]
    },
    {
      "attachments": {},
      "cell_type": "markdown",
      "metadata": {
        "_cell_guid": "e29aa3a9-6d9a-4772-be86-6aa8713d230f",
        "_uuid": "0981e04ce21d380238edc09f3c7c0a58b1a0e7a8",
        "id": "6hS59BREgAYk"
      },
      "source": [
        "##### Now that we got the features with high correlation with the BAD feature, we will run the classification algorithms and compare them"
      ]
    },
    {
      "cell_type": "code",
      "execution_count": 166,
      "metadata": {
        "_cell_guid": "2f8b04ef-d62a-4d98-8c44-dfad9749ed44",
        "_uuid": "baf5967ace7b12333d8fc74cd87251e29d03a02f",
        "colab": {
          "base_uri": "https://localhost:8080/",
          "height": 628
        },
        "collapsed": true,
        "id": "kDLeU29ogAYk",
        "jupyter": {
          "outputs_hidden": true
        },
        "outputId": "06c63860-0732-493b-ac3c-caf473e15751"
      },
      "outputs": [
        {
          "name": "stdout",
          "output_type": "stream",
          "text": [
            "accuracy score :  0.824097610574479\n",
            "f1 score :  0.6408659549228944\n",
            "precision score :  0.763878859958374\n",
            "recall score :  0.6176301663389958\n",
            "Confusion matrix, without normalization\n",
            "[[1513   48]\n",
            " [ 298  108]]\n"
          ]
        },
        {
          "data": {
            "image/png": "[encoded data removed]",
            "text/plain": [
              "<Figure size 640x480 with 2 Axes>"
            ]
          },
          "metadata": {},
          "output_type": "display_data"
        }
      ],
      "source": [
        "# Logistic Regression using above feature set 1\n",
        "\n",
        "x = df[feat1]\n",
        "y = df[\"BAD\"]\n",
        "x_tr,x_te,y_tr,y_te = train_test_split(x,y,test_size = 0.33,random_state=1)\n",
        "logreg = LogisticRegression()\n",
        "logreg.fit(x_tr,y_tr)\n",
        "y_pre = logreg.predict(x_te)\n",
        "a3 = accuracy_score(y_te,y_pre)\n",
        "f3 = f1_score(y_te, y_pre, average=\"macro\")\n",
        "p3 = precision_score(y_te, y_pre, average=\"macro\")\n",
        "r3 = recall_score(y_te, y_pre, average=\"macro\")\n",
        "print(\"accuracy score : \",a3)\n",
        "print(\"f1 score : \",f3)\n",
        "print(\"precision score : \",p3)\n",
        "print(\"recall score : \",r3)\n",
        "\n",
        "# Computing Confusion matrix for the above algorithm\n",
        "\n",
        "cnf_matrix = confusion_matrix(y_te, y_pre)\n",
        "np.set_printoptions(precision=2)\n",
        "\n",
        "# Plot non-normalized confusion matrix\n",
        "plt.figure()\n",
        "plot_confusion_matrix(cnf_matrix, classes=[\"BAD\"],\n",
        "title='Confusion matrix - Logistic Regression Algorithm with pearson corr_f')\n",
        "\n",
        "plt.show()"
      ]
    },
    {
      "cell_type": "code",
      "execution_count": 167,
      "metadata": {
        "_cell_guid": "6064ac33-5b3f-49de-bd25-4484c73c2ccf",
        "_uuid": "929218b8f5d12c215bc6d390b47cb4c15f773d4e",
        "colab": {
          "base_uri": "https://localhost:8080/",
          "height": 236
        },
        "collapsed": true,
        "id": "F8gHu3SYgAYn",
        "jupyter": {
          "outputs_hidden": true
        },
        "outputId": "3533d21a-9b4a-4f45-ea7d-bd017f890bcb",
        "scrolled": true
      },
      "outputs": [
        {
          "data": {
            "text/html": [
              "\n",
              "  <div id=\"df-d8e354de-0e02-495c-aef5-43571a7b1a68\">\n",
              "    <div class=\"colab-df-container\">\n",
              "      <div>\n",
              "<style scoped>\n",
              "    .dataframe tbody tr th:only-of-type {\n",
              "        vertical-align: middle;\n",
              "    }\n",
              "\n",
              "    .dataframe tbody tr th {\n",
              "        vertical-align: top;\n",
              "    }\n",
              "\n",
              "    .dataframe thead th {\n",
              "        text-align: right;\n",
              "    }\n",
              "</style>\n",
              "<table border=\"1\" class=\"dataframe\">\n",
              "  <thead>\n",
              "    <tr style=\"text-align: right;\">\n",
              "      <th></th>\n",
              "      <th>BAD</th>\n",
              "      <th>LOAN</th>\n",
              "      <th>MORTDUE</th>\n",
              "      <th>VALUE</th>\n",
              "      <th>YOJ</th>\n",
              "      <th>DEROG</th>\n",
              "      <th>DELINQ</th>\n",
              "      <th>CLAGE</th>\n",
              "      <th>NINQ</th>\n",
              "      <th>CLNO</th>\n",
              "      <th>...</th>\n",
              "      <th>B_DEROG</th>\n",
              "      <th>B_DELINQ</th>\n",
              "      <th>REASON_1</th>\n",
              "      <th>REASON_2</th>\n",
              "      <th>JOB_1</th>\n",
              "      <th>JOB_2</th>\n",
              "      <th>JOB_3</th>\n",
              "      <th>JOB_4</th>\n",
              "      <th>JOB_5</th>\n",
              "      <th>JOB_6</th>\n",
              "    </tr>\n",
              "  </thead>\n",
              "  <tbody>\n",
              "    <tr>\n",
              "      <th>0</th>\n",
              "      <td>1</td>\n",
              "      <td>1100</td>\n",
              "      <td>25860.0000</td>\n",
              "      <td>39025.000000</td>\n",
              "      <td>2.442347</td>\n",
              "      <td>0.0</td>\n",
              "      <td>0.0</td>\n",
              "      <td>94.366667</td>\n",
              "      <td>1.000000</td>\n",
              "      <td>9.000000</td>\n",
              "      <td>...</td>\n",
              "      <td>0</td>\n",
              "      <td>0</td>\n",
              "      <td>1</td>\n",
              "      <td>0</td>\n",
              "      <td>1</td>\n",
              "      <td>0</td>\n",
              "      <td>0</td>\n",
              "      <td>0</td>\n",
              "      <td>0</td>\n",
              "      <td>0</td>\n",
              "    </tr>\n",
              "    <tr>\n",
              "      <th>1</th>\n",
              "      <td>1</td>\n",
              "      <td>1300</td>\n",
              "      <td>70053.0000</td>\n",
              "      <td>68400.000000</td>\n",
              "      <td>2.079442</td>\n",
              "      <td>0.0</td>\n",
              "      <td>2.0</td>\n",
              "      <td>121.833333</td>\n",
              "      <td>0.000000</td>\n",
              "      <td>14.000000</td>\n",
              "      <td>...</td>\n",
              "      <td>0</td>\n",
              "      <td>1</td>\n",
              "      <td>1</td>\n",
              "      <td>0</td>\n",
              "      <td>1</td>\n",
              "      <td>0</td>\n",
              "      <td>0</td>\n",
              "      <td>0</td>\n",
              "      <td>0</td>\n",
              "      <td>0</td>\n",
              "    </tr>\n",
              "    <tr>\n",
              "      <th>2</th>\n",
              "      <td>1</td>\n",
              "      <td>1500</td>\n",
              "      <td>13500.0000</td>\n",
              "      <td>16700.000000</td>\n",
              "      <td>1.609438</td>\n",
              "      <td>0.0</td>\n",
              "      <td>0.0</td>\n",
              "      <td>149.466667</td>\n",
              "      <td>1.000000</td>\n",
              "      <td>10.000000</td>\n",
              "      <td>...</td>\n",
              "      <td>0</td>\n",
              "      <td>0</td>\n",
              "      <td>1</td>\n",
              "      <td>0</td>\n",
              "      <td>1</td>\n",
              "      <td>0</td>\n",
              "      <td>0</td>\n",
              "      <td>0</td>\n",
              "      <td>0</td>\n",
              "      <td>0</td>\n",
              "    </tr>\n",
              "    <tr>\n",
              "      <th>3</th>\n",
              "      <td>1</td>\n",
              "      <td>1500</td>\n",
              "      <td>73760.8172</td>\n",
              "      <td>101776.048741</td>\n",
              "      <td>2.294782</td>\n",
              "      <td>0.0</td>\n",
              "      <td>0.0</td>\n",
              "      <td>179.766275</td>\n",
              "      <td>1.186055</td>\n",
              "      <td>21.296096</td>\n",
              "      <td>...</td>\n",
              "      <td>0</td>\n",
              "      <td>0</td>\n",
              "      <td>0</td>\n",
              "      <td>1</td>\n",
              "      <td>1</td>\n",
              "      <td>0</td>\n",
              "      <td>0</td>\n",
              "      <td>0</td>\n",
              "      <td>0</td>\n",
              "      <td>0</td>\n",
              "    </tr>\n",
              "    <tr>\n",
              "      <th>4</th>\n",
              "      <td>0</td>\n",
              "      <td>1700</td>\n",
              "      <td>97800.0000</td>\n",
              "      <td>112000.000000</td>\n",
              "      <td>1.386294</td>\n",
              "      <td>0.0</td>\n",
              "      <td>0.0</td>\n",
              "      <td>93.333333</td>\n",
              "      <td>0.000000</td>\n",
              "      <td>14.000000</td>\n",
              "      <td>...</td>\n",
              "      <td>0</td>\n",
              "      <td>0</td>\n",
              "      <td>1</td>\n",
              "      <td>0</td>\n",
              "      <td>0</td>\n",
              "      <td>1</td>\n",
              "      <td>0</td>\n",
              "      <td>0</td>\n",
              "      <td>0</td>\n",
              "      <td>0</td>\n",
              "    </tr>\n",
              "  </tbody>\n",
              "</table>\n",
              "<p>5 rows × 21 columns</p>\n",
              "</div>\n",
              "      <button class=\"colab-df-convert\" onclick=\"convertToInteractive('df-d8e354de-0e02-495c-aef5-43571a7b1a68')\"\n",
              "              title=\"Convert this dataframe to an interactive table.\"\n",
              "              style=\"display:none;\">\n",
              "        \n",
              "  <svg xmlns=\"http://www.w3.org/2000/svg\" height=\"24px\"viewBox=\"0 0 24 24\"\n",
              "       width=\"24px\">\n",
              "    <path d=\"M0 0h24v24H0V0z\" fill=\"none\"/>\n",
              "    <path d=\"M18.56 5.44l.94 2.06.94-2.06 2.06-.94-2.06-.94-.94-2.06-.94 2.06-2.06.94zm-11 1L8.5 8.5l.94-2.06 2.06-.94-2.06-.94L8.5 2.5l-.94 2.06-2.06.94zm10 10l.94 2.06.94-2.06 2.06-.94-2.06-.94-.94-2.06-.94 2.06-2.06.94z\"/><path d=\"M17.41 7.96l-1.37-1.37c-.4-.4-.92-.59-1.43-.59-.52 0-1.04.2-1.43.59L10.3 9.45l-7.72 7.72c-.78.78-.78 2.05 0 2.83L4 21.41c.39.39.9.59 1.41.59.51 0 1.02-.2 1.41-.59l7.78-7.78 2.81-2.81c.8-.78.8-2.07 0-2.86zM5.41 20L4 18.59l7.72-7.72 1.47 1.35L5.41 20z\"/>\n",
              "  </svg>\n",
              "      </button>\n",
              "      \n",
              "  <style>\n",
              "    .colab-df-container {\n",
              "      display:flex;\n",
              "      flex-wrap:wrap;\n",
              "      gap: 12px;\n",
              "    }\n",
              "\n",
              "    .colab-df-convert {\n",
              "      background-color: #E8F0FE;\n",
              "      border: none;\n",
              "      border-radius: 50%;\n",
              "      cursor: pointer;\n",
              "      display: none;\n",
              "      fill: #1967D2;\n",
              "      height: 32px;\n",
              "      padding: 0 0 0 0;\n",
              "      width: 32px;\n",
              "    }\n",
              "\n",
              "    .colab-df-convert:hover {\n",
              "      background-color: #E2EBFA;\n",
              "      box-shadow: 0px 1px 2px rgba(60, 64, 67, 0.3), 0px 1px 3px 1px rgba(60, 64, 67, 0.15);\n",
              "      fill: #174EA6;\n",
              "    }\n",
              "\n",
              "    [theme=dark] .colab-df-convert {\n",
              "      background-color: #3B4455;\n",
              "      fill: #D2E3FC;\n",
              "    }\n",
              "\n",
              "    [theme=dark] .colab-df-convert:hover {\n",
              "      background-color: #434B5C;\n",
              "      box-shadow: 0px 1px 3px 1px rgba(0, 0, 0, 0.15);\n",
              "      filter: drop-shadow(0px 1px 2px rgba(0, 0, 0, 0.3));\n",
              "      fill: #FFFFFF;\n",
              "    }\n",
              "  </style>\n",
              "\n",
              "      <script>\n",
              "        const buttonEl =\n",
              "          document.querySelector('#df-d8e354de-0e02-495c-aef5-43571a7b1a68 button.colab-df-convert');\n",
              "        buttonEl.style.display =\n",
              "          google.colab.kernel.accessAllowed ? 'block' : 'none';\n",
              "\n",
              "        async function convertToInteractive(key) {\n",
              "          const element = document.querySelector('#df-d8e354de-0e02-495c-aef5-43571a7b1a68');\n",
              "          const dataTable =\n",
              "            await google.colab.kernel.invokeFunction('convertToInteractive',\n",
              "                                                     [key], {});\n",
              "          if (!dataTable) return;\n",
              "\n",
              "          const docLinkHtml = 'Like what you see? Visit the ' +\n",
              "            '<a target=\"_blank\" href=https://colab.research.google.com/notebooks/data_table.ipynb>data table notebook</a>'\n",
              "            + ' to learn more about interactive tables.';\n",
              "          element.innerHTML = '';\n",
              "          dataTable['output_type'] = 'display_data';\n",
              "          await google.colab.output.renderOutput(dataTable, element);\n",
              "          const docLink = document.createElement('div');\n",
              "          docLink.innerHTML = docLinkHtml;\n",
              "          element.appendChild(docLink);\n",
              "        }\n",
              "      </script>\n",
              "    </div>\n",
              "  </div>\n",
              "  "
            ],
            "text/plain": [
              "   BAD  LOAN     MORTDUE          VALUE       YOJ  DEROG  DELINQ       CLAGE  \\\n",
              "0    1  1100  25860.0000   39025.000000  2.442347    0.0     0.0   94.366667   \n",
              "1    1  1300  70053.0000   68400.000000  2.079442    0.0     2.0  121.833333   \n",
              "2    1  1500  13500.0000   16700.000000  1.609438    0.0     0.0  149.466667   \n",
              "3    1  1500  73760.8172  101776.048741  2.294782    0.0     0.0  179.766275   \n",
              "4    0  1700  97800.0000  112000.000000  1.386294    0.0     0.0   93.333333   \n",
              "\n",
              "       NINQ       CLNO  ...  B_DEROG  B_DELINQ  REASON_1  REASON_2  JOB_1  \\\n",
              "0  1.000000   9.000000  ...        0         0         1         0      1   \n",
              "1  0.000000  14.000000  ...        0         1         1         0      1   \n",
              "2  1.000000  10.000000  ...        0         0         1         0      1   \n",
              "3  1.186055  21.296096  ...        0         0         0         1      1   \n",
              "4  0.000000  14.000000  ...        0         0         1         0      0   \n",
              "\n",
              "   JOB_2  JOB_3  JOB_4  JOB_5  JOB_6  \n",
              "0      0      0      0      0      0  \n",
              "1      0      0      0      0      0  \n",
              "2      0      0      0      0      0  \n",
              "3      0      0      0      0      0  \n",
              "4      1      0      0      0      0  \n",
              "\n",
              "[5 rows x 21 columns]"
            ]
          },
          "execution_count": 167,
          "metadata": {},
          "output_type": "execute_result"
        }
      ],
      "source": [
        "df.head()"
      ]
    },
    {
      "attachments": {},
      "cell_type": "markdown",
      "metadata": {
        "_cell_guid": "792ba618-e433-4889-89e2-9350443cee25",
        "_uuid": "3073b1747d980b062e5df6ac393e964e00df99e4",
        "id": "WKooKGr-gAYn"
      },
      "source": [
        "### Using f_classif for feature selection"
      ]
    },
    {
      "cell_type": "code",
      "execution_count": 168,
      "metadata": {
        "_cell_guid": "9758103e-8cb4-4853-a2ab-1dd4556b5bbc",
        "_uuid": "d7ea238d04a21286a2eb276a0aec44a520b7b451",
        "colab": {
          "base_uri": "https://localhost:8080/",
          "height": 206
        },
        "collapsed": true,
        "id": "E9l7ld08gAYn",
        "jupyter": {
          "outputs_hidden": true
        },
        "outputId": "7afe0e21-124b-48bd-cca0-7d969fb0bcce"
      },
      "outputs": [
        {
          "data": {
            "text/html": [
              "\n",
              "  <div id=\"df-25438f92-870e-4b02-9c4a-ff0758e20cd7\">\n",
              "    <div class=\"colab-df-container\">\n",
              "      <div>\n",
              "<style scoped>\n",
              "    .dataframe tbody tr th:only-of-type {\n",
              "        vertical-align: middle;\n",
              "    }\n",
              "\n",
              "    .dataframe tbody tr th {\n",
              "        vertical-align: top;\n",
              "    }\n",
              "\n",
              "    .dataframe thead th {\n",
              "        text-align: right;\n",
              "    }\n",
              "</style>\n",
              "<table border=\"1\" class=\"dataframe\">\n",
              "  <thead>\n",
              "    <tr style=\"text-align: right;\">\n",
              "      <th></th>\n",
              "      <th>0</th>\n",
              "      <th>1</th>\n",
              "      <th>2</th>\n",
              "      <th>3</th>\n",
              "      <th>4</th>\n",
              "      <th>5</th>\n",
              "      <th>6</th>\n",
              "      <th>7</th>\n",
              "      <th>8</th>\n",
              "      <th>9</th>\n",
              "    </tr>\n",
              "  </thead>\n",
              "  <tbody>\n",
              "    <tr>\n",
              "      <th>0</th>\n",
              "      <td>1100.0</td>\n",
              "      <td>2.442347</td>\n",
              "      <td>0.0</td>\n",
              "      <td>0.0</td>\n",
              "      <td>94.366667</td>\n",
              "      <td>1.000000</td>\n",
              "      <td>33.779915</td>\n",
              "      <td>0.0</td>\n",
              "      <td>0.0</td>\n",
              "      <td>0.0</td>\n",
              "    </tr>\n",
              "    <tr>\n",
              "      <th>1</th>\n",
              "      <td>1300.0</td>\n",
              "      <td>2.079442</td>\n",
              "      <td>0.0</td>\n",
              "      <td>2.0</td>\n",
              "      <td>121.833333</td>\n",
              "      <td>0.000000</td>\n",
              "      <td>33.779915</td>\n",
              "      <td>0.0</td>\n",
              "      <td>1.0</td>\n",
              "      <td>0.0</td>\n",
              "    </tr>\n",
              "    <tr>\n",
              "      <th>2</th>\n",
              "      <td>1500.0</td>\n",
              "      <td>1.609438</td>\n",
              "      <td>0.0</td>\n",
              "      <td>0.0</td>\n",
              "      <td>149.466667</td>\n",
              "      <td>1.000000</td>\n",
              "      <td>33.779915</td>\n",
              "      <td>0.0</td>\n",
              "      <td>0.0</td>\n",
              "      <td>0.0</td>\n",
              "    </tr>\n",
              "    <tr>\n",
              "      <th>3</th>\n",
              "      <td>1500.0</td>\n",
              "      <td>2.294782</td>\n",
              "      <td>0.0</td>\n",
              "      <td>0.0</td>\n",
              "      <td>179.766275</td>\n",
              "      <td>1.186055</td>\n",
              "      <td>33.779915</td>\n",
              "      <td>0.0</td>\n",
              "      <td>0.0</td>\n",
              "      <td>0.0</td>\n",
              "    </tr>\n",
              "    <tr>\n",
              "      <th>4</th>\n",
              "      <td>1700.0</td>\n",
              "      <td>1.386294</td>\n",
              "      <td>0.0</td>\n",
              "      <td>0.0</td>\n",
              "      <td>93.333333</td>\n",
              "      <td>0.000000</td>\n",
              "      <td>33.779915</td>\n",
              "      <td>0.0</td>\n",
              "      <td>0.0</td>\n",
              "      <td>1.0</td>\n",
              "    </tr>\n",
              "  </tbody>\n",
              "</table>\n",
              "</div>\n",
              "      <button class=\"colab-df-convert\" onclick=\"convertToInteractive('df-25438f92-870e-4b02-9c4a-ff0758e20cd7')\"\n",
              "              title=\"Convert this dataframe to an interactive table.\"\n",
              "              style=\"display:none;\">\n",
              "        \n",
              "  <svg xmlns=\"http://www.w3.org/2000/svg\" height=\"24px\"viewBox=\"0 0 24 24\"\n",
              "       width=\"24px\">\n",
              "    <path d=\"M0 0h24v24H0V0z\" fill=\"none\"/>\n",
              "    <path d=\"M18.56 5.44l.94 2.06.94-2.06 2.06-.94-2.06-.94-.94-2.06-.94 2.06-2.06.94zm-11 1L8.5 8.5l.94-2.06 2.06-.94-2.06-.94L8.5 2.5l-.94 2.06-2.06.94zm10 10l.94 2.06.94-2.06 2.06-.94-2.06-.94-.94-2.06-.94 2.06-2.06.94z\"/><path d=\"M17.41 7.96l-1.37-1.37c-.4-.4-.92-.59-1.43-.59-.52 0-1.04.2-1.43.59L10.3 9.45l-7.72 7.72c-.78.78-.78 2.05 0 2.83L4 21.41c.39.39.9.59 1.41.59.51 0 1.02-.2 1.41-.59l7.78-7.78 2.81-2.81c.8-.78.8-2.07 0-2.86zM5.41 20L4 18.59l7.72-7.72 1.47 1.35L5.41 20z\"/>\n",
              "  </svg>\n",
              "      </button>\n",
              "      \n",
              "  <style>\n",
              "    .colab-df-container {\n",
              "      display:flex;\n",
              "      flex-wrap:wrap;\n",
              "      gap: 12px;\n",
              "    }\n",
              "\n",
              "    .colab-df-convert {\n",
              "      background-color: #E8F0FE;\n",
              "      border: none;\n",
              "      border-radius: 50%;\n",
              "      cursor: pointer;\n",
              "      display: none;\n",
              "      fill: #1967D2;\n",
              "      height: 32px;\n",
              "      padding: 0 0 0 0;\n",
              "      width: 32px;\n",
              "    }\n",
              "\n",
              "    .colab-df-convert:hover {\n",
              "      background-color: #E2EBFA;\n",
              "      box-shadow: 0px 1px 2px rgba(60, 64, 67, 0.3), 0px 1px 3px 1px rgba(60, 64, 67, 0.15);\n",
              "      fill: #174EA6;\n",
              "    }\n",
              "\n",
              "    [theme=dark] .colab-df-convert {\n",
              "      background-color: #3B4455;\n",
              "      fill: #D2E3FC;\n",
              "    }\n",
              "\n",
              "    [theme=dark] .colab-df-convert:hover {\n",
              "      background-color: #434B5C;\n",
              "      box-shadow: 0px 1px 3px 1px rgba(0, 0, 0, 0.15);\n",
              "      filter: drop-shadow(0px 1px 2px rgba(0, 0, 0, 0.3));\n",
              "      fill: #FFFFFF;\n",
              "    }\n",
              "  </style>\n",
              "\n",
              "      <script>\n",
              "        const buttonEl =\n",
              "          document.querySelector('#df-25438f92-870e-4b02-9c4a-ff0758e20cd7 button.colab-df-convert');\n",
              "        buttonEl.style.display =\n",
              "          google.colab.kernel.accessAllowed ? 'block' : 'none';\n",
              "\n",
              "        async function convertToInteractive(key) {\n",
              "          const element = document.querySelector('#df-25438f92-870e-4b02-9c4a-ff0758e20cd7');\n",
              "          const dataTable =\n",
              "            await google.colab.kernel.invokeFunction('convertToInteractive',\n",
              "                                                     [key], {});\n",
              "          if (!dataTable) return;\n",
              "\n",
              "          const docLinkHtml = 'Like what you see? Visit the ' +\n",
              "            '<a target=\"_blank\" href=https://colab.research.google.com/notebooks/data_table.ipynb>data table notebook</a>'\n",
              "            + ' to learn more about interactive tables.';\n",
              "          element.innerHTML = '';\n",
              "          dataTable['output_type'] = 'display_data';\n",
              "          await google.colab.output.renderOutput(dataTable, element);\n",
              "          const docLink = document.createElement('div');\n",
              "          docLink.innerHTML = docLinkHtml;\n",
              "          element.appendChild(docLink);\n",
              "        }\n",
              "      </script>\n",
              "    </div>\n",
              "  </div>\n",
              "  "
            ],
            "text/plain": [
              "        0         1    2    3           4         5          6    7    8    9\n",
              "0  1100.0  2.442347  0.0  0.0   94.366667  1.000000  33.779915  0.0  0.0  0.0\n",
              "1  1300.0  2.079442  0.0  2.0  121.833333  0.000000  33.779915  0.0  1.0  0.0\n",
              "2  1500.0  1.609438  0.0  0.0  149.466667  1.000000  33.779915  0.0  0.0  0.0\n",
              "3  1500.0  2.294782  0.0  0.0  179.766275  1.186055  33.779915  0.0  0.0  0.0\n",
              "4  1700.0  1.386294  0.0  0.0   93.333333  0.000000  33.779915  0.0  0.0  1.0"
            ]
          },
          "execution_count": 168,
          "metadata": {},
          "output_type": "execute_result"
        }
      ],
      "source": [
        "from sklearn.feature_selection import f_classif\n",
        "\n",
        "df_new2 = pd.DataFrame(SelectKBest(f_classif, k=10).fit_transform(df.drop([\"BAD\"],axis=1),df[\"BAD\"]))\n",
        "df_new2.head()"
      ]
    },
    {
      "cell_type": "code",
      "execution_count": 169,
      "metadata": {
        "_cell_guid": "f69d2634-9d0b-4803-b97c-f327a607d799",
        "_uuid": "6435bfb5d0f10d7ea3260918bd015959a3958a60",
        "colab": {
          "base_uri": "https://localhost:8080/",
          "height": 628
        },
        "collapsed": true,
        "id": "5hLCv6AggAYn",
        "jupyter": {
          "outputs_hidden": true
        },
        "outputId": "0f387b47-1278-49c4-a5f0-d15a62d61a6a"
      },
      "outputs": [
        {
          "name": "stdout",
          "output_type": "stream",
          "text": [
            "accuracy score :  0.8256227758007118\n",
            "f1 score :  0.6496716000650101\n",
            "precision score :  0.7634780439121757\n",
            "recall score :  0.6249696260133867\n",
            "Confusion matrix, without normalization\n",
            "[[1509   52]\n",
            " [ 291  115]]\n"
          ]
        },
        {
          "data": {
            "image/png": "[encoded data removed]",
            "text/plain": [
              "<Figure size 640x480 with 2 Axes>"
            ]
          },
          "metadata": {},
          "output_type": "display_data"
        }
      ],
      "source": [
        "# Running the logistic regression algorithm using the features selected from f_classif test\n",
        "\n",
        "x = df_new2\n",
        "y = df[\"BAD\"]\n",
        "x_tr,x_te,y_tr,y_te = train_test_split(x,y,test_size = .33,random_state=1)\n",
        "logreg = LogisticRegression()\n",
        "logreg.fit(x_tr,y_tr)\n",
        "y_pre = logreg.predict(x_te)\n",
        "a7 = accuracy_score(y_te,y_pre)\n",
        "f7 = f1_score(y_te, y_pre, average=\"macro\")\n",
        "p7 = precision_score(y_te, y_pre, average=\"macro\")\n",
        "r7 = recall_score(y_te, y_pre, average=\"macro\")\n",
        "print(\"accuracy score : \",a7)\n",
        "print(\"f1 score : \",f7)\n",
        "print(\"precision score : \",p7)\n",
        "print(\"recall score : \",r7)\n",
        "\n",
        "# Computing Confusion matrix for the above algorithm\n",
        "\n",
        "cnf_matrix = confusion_matrix(y_te, y_pre)\n",
        "np.set_printoptions(precision=2)\n",
        "\n",
        "# Plot non-normalized confusion matrix\n",
        "plt.figure()\n",
        "plot_confusion_matrix(cnf_matrix, classes=[\"BAD\"],\n",
        "title='Confusion matrix - Logistic Regression Algorithm with f_classif')\n",
        "\n",
        "plt.show()"
      ]
    },
    {
      "cell_type": "code",
      "execution_count": 170,
      "metadata": {
        "_cell_guid": "523ffad4-e093-4eff-a40f-79441238f7d1",
        "_uuid": "47aed7ca48dd5f8d87ac9d160f66515d0a144117",
        "colab": {
          "base_uri": "https://localhost:8080/",
          "height": 206
        },
        "collapsed": true,
        "id": "kWqBpOvkgAYo",
        "jupyter": {
          "outputs_hidden": true
        },
        "outputId": "117cb446-cd8a-44dd-cd92-a7ba7983e7fa"
      },
      "outputs": [
        {
          "data": {
            "text/html": [
              "\n",
              "  <div id=\"df-4c29fb41-7664-4435-bace-e3c98ea51934\">\n",
              "    <div class=\"colab-df-container\">\n",
              "      <div>\n",
              "<style scoped>\n",
              "    .dataframe tbody tr th:only-of-type {\n",
              "        vertical-align: middle;\n",
              "    }\n",
              "\n",
              "    .dataframe tbody tr th {\n",
              "        vertical-align: top;\n",
              "    }\n",
              "\n",
              "    .dataframe thead th {\n",
              "        text-align: right;\n",
              "    }\n",
              "</style>\n",
              "<table border=\"1\" class=\"dataframe\">\n",
              "  <thead>\n",
              "    <tr style=\"text-align: right;\">\n",
              "      <th></th>\n",
              "      <th>0</th>\n",
              "      <th>1</th>\n",
              "      <th>2</th>\n",
              "      <th>3</th>\n",
              "      <th>4</th>\n",
              "      <th>5</th>\n",
              "      <th>6</th>\n",
              "      <th>7</th>\n",
              "      <th>8</th>\n",
              "      <th>9</th>\n",
              "    </tr>\n",
              "  </thead>\n",
              "  <tbody>\n",
              "    <tr>\n",
              "      <th>0</th>\n",
              "      <td>1100.0</td>\n",
              "      <td>2.442347</td>\n",
              "      <td>0.0</td>\n",
              "      <td>0.0</td>\n",
              "      <td>94.366667</td>\n",
              "      <td>1.000000</td>\n",
              "      <td>33.779915</td>\n",
              "      <td>0.0</td>\n",
              "      <td>0.0</td>\n",
              "      <td>0.0</td>\n",
              "    </tr>\n",
              "    <tr>\n",
              "      <th>1</th>\n",
              "      <td>1300.0</td>\n",
              "      <td>2.079442</td>\n",
              "      <td>0.0</td>\n",
              "      <td>2.0</td>\n",
              "      <td>121.833333</td>\n",
              "      <td>0.000000</td>\n",
              "      <td>33.779915</td>\n",
              "      <td>0.0</td>\n",
              "      <td>1.0</td>\n",
              "      <td>0.0</td>\n",
              "    </tr>\n",
              "    <tr>\n",
              "      <th>2</th>\n",
              "      <td>1500.0</td>\n",
              "      <td>1.609438</td>\n",
              "      <td>0.0</td>\n",
              "      <td>0.0</td>\n",
              "      <td>149.466667</td>\n",
              "      <td>1.000000</td>\n",
              "      <td>33.779915</td>\n",
              "      <td>0.0</td>\n",
              "      <td>0.0</td>\n",
              "      <td>0.0</td>\n",
              "    </tr>\n",
              "    <tr>\n",
              "      <th>3</th>\n",
              "      <td>1500.0</td>\n",
              "      <td>2.294782</td>\n",
              "      <td>0.0</td>\n",
              "      <td>0.0</td>\n",
              "      <td>179.766275</td>\n",
              "      <td>1.186055</td>\n",
              "      <td>33.779915</td>\n",
              "      <td>0.0</td>\n",
              "      <td>0.0</td>\n",
              "      <td>0.0</td>\n",
              "    </tr>\n",
              "    <tr>\n",
              "      <th>4</th>\n",
              "      <td>1700.0</td>\n",
              "      <td>1.386294</td>\n",
              "      <td>0.0</td>\n",
              "      <td>0.0</td>\n",
              "      <td>93.333333</td>\n",
              "      <td>0.000000</td>\n",
              "      <td>33.779915</td>\n",
              "      <td>0.0</td>\n",
              "      <td>0.0</td>\n",
              "      <td>1.0</td>\n",
              "    </tr>\n",
              "  </tbody>\n",
              "</table>\n",
              "</div>\n",
              "      <button class=\"colab-df-convert\" onclick=\"convertToInteractive('df-4c29fb41-7664-4435-bace-e3c98ea51934')\"\n",
              "              title=\"Convert this dataframe to an interactive table.\"\n",
              "              style=\"display:none;\">\n",
              "        \n",
              "  <svg xmlns=\"http://www.w3.org/2000/svg\" height=\"24px\"viewBox=\"0 0 24 24\"\n",
              "       width=\"24px\">\n",
              "    <path d=\"M0 0h24v24H0V0z\" fill=\"none\"/>\n",
              "    <path d=\"M18.56 5.44l.94 2.06.94-2.06 2.06-.94-2.06-.94-.94-2.06-.94 2.06-2.06.94zm-11 1L8.5 8.5l.94-2.06 2.06-.94-2.06-.94L8.5 2.5l-.94 2.06-2.06.94zm10 10l.94 2.06.94-2.06 2.06-.94-2.06-.94-.94-2.06-.94 2.06-2.06.94z\"/><path d=\"M17.41 7.96l-1.37-1.37c-.4-.4-.92-.59-1.43-.59-.52 0-1.04.2-1.43.59L10.3 9.45l-7.72 7.72c-.78.78-.78 2.05 0 2.83L4 21.41c.39.39.9.59 1.41.59.51 0 1.02-.2 1.41-.59l7.78-7.78 2.81-2.81c.8-.78.8-2.07 0-2.86zM5.41 20L4 18.59l7.72-7.72 1.47 1.35L5.41 20z\"/>\n",
              "  </svg>\n",
              "      </button>\n",
              "      \n",
              "  <style>\n",
              "    .colab-df-container {\n",
              "      display:flex;\n",
              "      flex-wrap:wrap;\n",
              "      gap: 12px;\n",
              "    }\n",
              "\n",
              "    .colab-df-convert {\n",
              "      background-color: #E8F0FE;\n",
              "      border: none;\n",
              "      border-radius: 50%;\n",
              "      cursor: pointer;\n",
              "      display: none;\n",
              "      fill: #1967D2;\n",
              "      height: 32px;\n",
              "      padding: 0 0 0 0;\n",
              "      width: 32px;\n",
              "    }\n",
              "\n",
              "    .colab-df-convert:hover {\n",
              "      background-color: #E2EBFA;\n",
              "      box-shadow: 0px 1px 2px rgba(60, 64, 67, 0.3), 0px 1px 3px 1px rgba(60, 64, 67, 0.15);\n",
              "      fill: #174EA6;\n",
              "    }\n",
              "\n",
              "    [theme=dark] .colab-df-convert {\n",
              "      background-color: #3B4455;\n",
              "      fill: #D2E3FC;\n",
              "    }\n",
              "\n",
              "    [theme=dark] .colab-df-convert:hover {\n",
              "      background-color: #434B5C;\n",
              "      box-shadow: 0px 1px 3px 1px rgba(0, 0, 0, 0.15);\n",
              "      filter: drop-shadow(0px 1px 2px rgba(0, 0, 0, 0.3));\n",
              "      fill: #FFFFFF;\n",
              "    }\n",
              "  </style>\n",
              "\n",
              "      <script>\n",
              "        const buttonEl =\n",
              "          document.querySelector('#df-4c29fb41-7664-4435-bace-e3c98ea51934 button.colab-df-convert');\n",
              "        buttonEl.style.display =\n",
              "          google.colab.kernel.accessAllowed ? 'block' : 'none';\n",
              "\n",
              "        async function convertToInteractive(key) {\n",
              "          const element = document.querySelector('#df-4c29fb41-7664-4435-bace-e3c98ea51934');\n",
              "          const dataTable =\n",
              "            await google.colab.kernel.invokeFunction('convertToInteractive',\n",
              "                                                     [key], {});\n",
              "          if (!dataTable) return;\n",
              "\n",
              "          const docLinkHtml = 'Like what you see? Visit the ' +\n",
              "            '<a target=\"_blank\" href=https://colab.research.google.com/notebooks/data_table.ipynb>data table notebook</a>'\n",
              "            + ' to learn more about interactive tables.';\n",
              "          element.innerHTML = '';\n",
              "          dataTable['output_type'] = 'display_data';\n",
              "          await google.colab.output.renderOutput(dataTable, element);\n",
              "          const docLink = document.createElement('div');\n",
              "          docLink.innerHTML = docLinkHtml;\n",
              "          element.appendChild(docLink);\n",
              "        }\n",
              "      </script>\n",
              "    </div>\n",
              "  </div>\n",
              "  "
            ],
            "text/plain": [
              "        0         1    2    3           4         5          6    7    8    9\n",
              "0  1100.0  2.442347  0.0  0.0   94.366667  1.000000  33.779915  0.0  0.0  0.0\n",
              "1  1300.0  2.079442  0.0  2.0  121.833333  0.000000  33.779915  0.0  1.0  0.0\n",
              "2  1500.0  1.609438  0.0  0.0  149.466667  1.000000  33.779915  0.0  0.0  0.0\n",
              "3  1500.0  2.294782  0.0  0.0  179.766275  1.186055  33.779915  0.0  0.0  0.0\n",
              "4  1700.0  1.386294  0.0  0.0   93.333333  0.000000  33.779915  0.0  0.0  1.0"
            ]
          },
          "execution_count": 170,
          "metadata": {},
          "output_type": "execute_result"
        }
      ],
      "source": [
        "from sklearn.feature_selection import f_regression\n",
        "\n",
        "df_new3 = pd.DataFrame(SelectKBest(f_regression, k=10).fit_transform(df.drop([\"BAD\"],axis=1),df[\"BAD\"]))\n",
        "df_new3.head()"
      ]
    },
    {
      "cell_type": "code",
      "execution_count": 171,
      "metadata": {
        "_cell_guid": "6f123f91-b82c-40a2-b28f-c07f523f990b",
        "_uuid": "2aefb2e4c7477d95c51a0c395c0b40b243e49c56",
        "colab": {
          "base_uri": "https://localhost:8080/",
          "height": 628
        },
        "collapsed": true,
        "id": "R86BoQligAYp",
        "jupyter": {
          "outputs_hidden": true
        },
        "outputId": "76771124-832f-4b0a-c35a-a0cc394fede4"
      },
      "outputs": [
        {
          "name": "stdout",
          "output_type": "stream",
          "text": [
            "accuracy score :  0.8256227758007118\n",
            "f1 score :  0.6496716000650101\n",
            "precision score :  0.7634780439121757\n",
            "recall score :  0.6249696260133867\n",
            "Confusion matrix, without normalization\n",
            "[[1509   52]\n",
            " [ 291  115]]\n"
          ]
        },
        {
          "data": {
            "image/png": "[encoded data removed]",
            "text/plain": [
              "<Figure size 640x480 with 2 Axes>"
            ]
          },
          "metadata": {},
          "output_type": "display_data"
        }
      ],
      "source": [
        "# Running the logistic regression algorithm using the features selected from f_regression test\n",
        "\n",
        "x = df_new3\n",
        "y = df[\"BAD\"]\n",
        "x_tr,x_te,y_tr,y_te = train_test_split(x,y,test_size = .33,random_state=1)\n",
        "logreg = LogisticRegression()\n",
        "logreg.fit(x_tr,y_tr)\n",
        "y_pre2 = logreg.predict(x_te)\n",
        "a9 = accuracy_score(y_te,y_pre2)\n",
        "f9 = f1_score(y_te, y_pre2, average=\"macro\")\n",
        "p9 = precision_score(y_te, y_pre2, average=\"macro\")\n",
        "r9 = recall_score(y_te, y_pre2, average=\"macro\")\n",
        "print(\"accuracy score : \",a9)\n",
        "print(\"f1 score : \",f9)\n",
        "print(\"precision score : \",p9)\n",
        "print(\"recall score : \",r9)\n",
        "\n",
        "# Computing Confusion matrix for the above algorithm\n",
        "\n",
        "cnf_matrix = confusion_matrix(y_te, y_pre)\n",
        "np.set_printoptions(precision=2)\n",
        "\n",
        "# Plot non-normalized confusion matrix\n",
        "plt.figure()\n",
        "plot_confusion_matrix(cnf_matrix, classes=[\"BAD\"],\n",
        "                      title='Confusion matrix - Logistic Regression Algorithm with f_regression')\n",
        "\n",
        "plt.show()"
      ]
    }
  ],
  "metadata": {
    "colab": {
      "provenance": []
    },
    "kernelspec": {
      "display_name": "Python 3",
      "language": "python",
      "name": "python3"
    },
    "language_info": {
      "codemirror_mode": {
        "name": "ipython",
        "version": 3
      },
      "file_extension": ".py",
      "mimetype": "text/x-python",
      "name": "python",
      "nbconvert_exporter": "python",
      "pygments_lexer": "ipython3",
      "version": "3.11.3"
    },
    "vscode": {
      "interpreter": {
        "hash": "74d306af7fae3cf08287fe1631cb88d58a41da3f6f0ed9bf047570534e5fc239"
      }
    }
  },
  "nbformat": 4,
  "nbformat_minor": 0
}
